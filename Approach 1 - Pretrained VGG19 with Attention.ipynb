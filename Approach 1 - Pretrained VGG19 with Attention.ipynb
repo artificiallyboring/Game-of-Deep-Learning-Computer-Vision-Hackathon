{
 "cells": [
  {
   "cell_type": "code",
   "execution_count": 0,
   "metadata": {
    "colab": {
     "base_uri": "https://localhost:8080/",
     "height": 35
    },
    "colab_type": "code",
    "id": "AROZMaOgoIPE",
    "outputId": "7260183a-d280-4dc6-d79a-e2dd1d86880e"
   },
   "outputs": [
    {
     "name": "stdout",
     "output_type": "stream",
     "text": [
      "Drive already mounted at /content/gdrive; to attempt to forcibly remount, call drive.mount(\"/content/gdrive\", force_remount=True).\n"
     ]
    }
   ],
   "source": [
    "from google.colab import drive\n",
    "drive.mount('/content/gdrive')"
   ]
  },
  {
   "cell_type": "code",
   "execution_count": 0,
   "metadata": {
    "colab": {
     "base_uri": "https://localhost:8080/",
     "height": 35
    },
    "colab_type": "code",
    "id": "kqqqzhTOG0G5",
    "outputId": "71b17950-6015-42a5-9f49-df2b67922254"
   },
   "outputs": [
    {
     "name": "stdout",
     "output_type": "stream",
     "text": [
      "/content/gdrive/My Drive/Game of Deep Learning/images\n"
     ]
    }
   ],
   "source": [
    "cd /content/gdrive/My\\ Drive/Game\\ of\\ Deep\\ Learning/images/"
   ]
  },
  {
   "cell_type": "code",
   "execution_count": 0,
   "metadata": {
    "colab": {
     "base_uri": "https://localhost:8080/",
     "height": 35
    },
    "colab_type": "code",
    "id": "g4Mwe6YK4kMH",
    "outputId": "0b6435d4-4d32-4d71-8bad-bab017e25442"
   },
   "outputs": [
    {
     "name": "stdout",
     "output_type": "stream",
     "text": [
      "8932\n"
     ]
    }
   ],
   "source": [
    "!find . -type f | wc -l"
   ]
  },
  {
   "cell_type": "code",
   "execution_count": 0,
   "metadata": {
    "colab": {
     "base_uri": "https://localhost:8080/",
     "height": 35
    },
    "colab_type": "code",
    "id": "QyLgGr4VoOY_",
    "outputId": "befd2ef6-beb6-4bf9-864f-dc31688bf46b"
   },
   "outputs": [
    {
     "name": "stdout",
     "output_type": "stream",
     "text": [
      "/content/gdrive/My Drive/Game of Deep Learning\n"
     ]
    }
   ],
   "source": [
    "cd /content/gdrive/My\\ Drive/Game\\ of\\ Deep\\ Learning/"
   ]
  },
  {
   "cell_type": "code",
   "execution_count": 0,
   "metadata": {
    "colab": {},
    "colab_type": "code",
    "id": "_9LrdJs0pZZ7"
   },
   "outputs": [],
   "source": [
    "import pandas as pd\n",
    "import numpy as np\n",
    "import seaborn as sns\n",
    "import matplotlib.pyplot as plt\n",
    "from PIL import Image"
   ]
  },
  {
   "cell_type": "code",
   "execution_count": 0,
   "metadata": {
    "colab": {},
    "colab_type": "code",
    "id": "bXWQZHcDrRxy"
   },
   "outputs": [],
   "source": [
    "train = pd.read_csv('train.csv')\n",
    "test = pd.read_csv('test_ApKoW4T.csv')"
   ]
  },
  {
   "cell_type": "code",
   "execution_count": 0,
   "metadata": {
    "colab": {
     "base_uri": "https://localhost:8080/",
     "height": 194
    },
    "colab_type": "code",
    "id": "Njd8yRVU4rtd",
    "outputId": "3b3042f1-ccf1-44e9-e9a8-c7e17cedd0bb"
   },
   "outputs": [
    {
     "data": {
      "text/html": [
       "<div>\n",
       "<style scoped>\n",
       "    .dataframe tbody tr th:only-of-type {\n",
       "        vertical-align: middle;\n",
       "    }\n",
       "\n",
       "    .dataframe tbody tr th {\n",
       "        vertical-align: top;\n",
       "    }\n",
       "\n",
       "    .dataframe thead th {\n",
       "        text-align: right;\n",
       "    }\n",
       "</style>\n",
       "<table border=\"1\" class=\"dataframe\">\n",
       "  <thead>\n",
       "    <tr style=\"text-align: right;\">\n",
       "      <th></th>\n",
       "      <th>image</th>\n",
       "      <th>category</th>\n",
       "    </tr>\n",
       "  </thead>\n",
       "  <tbody>\n",
       "    <tr>\n",
       "      <th>0</th>\n",
       "      <td>2823080.jpg</td>\n",
       "      <td>1</td>\n",
       "    </tr>\n",
       "    <tr>\n",
       "      <th>1</th>\n",
       "      <td>2870024.jpg</td>\n",
       "      <td>1</td>\n",
       "    </tr>\n",
       "    <tr>\n",
       "      <th>2</th>\n",
       "      <td>2662125.jpg</td>\n",
       "      <td>2</td>\n",
       "    </tr>\n",
       "    <tr>\n",
       "      <th>3</th>\n",
       "      <td>2900420.jpg</td>\n",
       "      <td>3</td>\n",
       "    </tr>\n",
       "    <tr>\n",
       "      <th>4</th>\n",
       "      <td>2804883.jpg</td>\n",
       "      <td>2</td>\n",
       "    </tr>\n",
       "  </tbody>\n",
       "</table>\n",
       "</div>"
      ],
      "text/plain": [
       "         image  category\n",
       "0  2823080.jpg         1\n",
       "1  2870024.jpg         1\n",
       "2  2662125.jpg         2\n",
       "3  2900420.jpg         3\n",
       "4  2804883.jpg         2"
      ]
     },
     "execution_count": 7,
     "metadata": {
      "tags": []
     },
     "output_type": "execute_result"
    }
   ],
   "source": [
    "train.head()"
   ]
  },
  {
   "cell_type": "code",
   "execution_count": 0,
   "metadata": {
    "colab": {
     "base_uri": "https://localhost:8080/",
     "height": 194
    },
    "colab_type": "code",
    "id": "CYygK9Aq8dr_",
    "outputId": "805ba466-b721-40c6-e976-228ab49b3fd4"
   },
   "outputs": [
    {
     "data": {
      "text/html": [
       "<div>\n",
       "<style scoped>\n",
       "    .dataframe tbody tr th:only-of-type {\n",
       "        vertical-align: middle;\n",
       "    }\n",
       "\n",
       "    .dataframe tbody tr th {\n",
       "        vertical-align: top;\n",
       "    }\n",
       "\n",
       "    .dataframe thead th {\n",
       "        text-align: right;\n",
       "    }\n",
       "</style>\n",
       "<table border=\"1\" class=\"dataframe\">\n",
       "  <thead>\n",
       "    <tr style=\"text-align: right;\">\n",
       "      <th></th>\n",
       "      <th>image</th>\n",
       "    </tr>\n",
       "  </thead>\n",
       "  <tbody>\n",
       "    <tr>\n",
       "      <th>0</th>\n",
       "      <td>1007700.jpg</td>\n",
       "    </tr>\n",
       "    <tr>\n",
       "      <th>1</th>\n",
       "      <td>1011369.jpg</td>\n",
       "    </tr>\n",
       "    <tr>\n",
       "      <th>2</th>\n",
       "      <td>1051155.jpg</td>\n",
       "    </tr>\n",
       "    <tr>\n",
       "      <th>3</th>\n",
       "      <td>1062001.jpg</td>\n",
       "    </tr>\n",
       "    <tr>\n",
       "      <th>4</th>\n",
       "      <td>1069397.jpg</td>\n",
       "    </tr>\n",
       "  </tbody>\n",
       "</table>\n",
       "</div>"
      ],
      "text/plain": [
       "         image\n",
       "0  1007700.jpg\n",
       "1  1011369.jpg\n",
       "2  1051155.jpg\n",
       "3  1062001.jpg\n",
       "4  1069397.jpg"
      ]
     },
     "execution_count": 8,
     "metadata": {
      "tags": []
     },
     "output_type": "execute_result"
    }
   ],
   "source": [
    "test.head()"
   ]
  },
  {
   "cell_type": "code",
   "execution_count": 0,
   "metadata": {
    "colab": {
     "base_uri": "https://localhost:8080/",
     "height": 283
    },
    "colab_type": "code",
    "id": "qt884vqV4uhi",
    "outputId": "e82626cc-5443-428d-caca-892f149d6628"
   },
   "outputs": [
    {
     "data": {
      "image/png": "[encoded data removed]",
      "text/plain": [
       "<Figure size 432x288 with 1 Axes>"
      ]
     },
     "metadata": {
      "tags": []
     },
     "output_type": "display_data"
    }
   ],
   "source": [
    "sns.countplot(x=\"category\", data=train),\n",
    "plt.show()"
   ]
  },
  {
   "cell_type": "code",
   "execution_count": 0,
   "metadata": {
    "colab": {
     "base_uri": "https://localhost:8080/",
     "height": 124
    },
    "colab_type": "code",
    "id": "8st5538w43ca",
    "outputId": "3bfec361-71a5-4c04-e6e3-7a2629ad6925"
   },
   "outputs": [
    {
     "data": {
      "text/plain": [
       "1    2120\n",
       "5    1217\n",
       "2    1167\n",
       "3     916\n",
       "4     832\n",
       "Name: category, dtype: int64"
      ]
     },
     "execution_count": 10,
     "metadata": {
      "tags": []
     },
     "output_type": "execute_result"
    }
   ],
   "source": [
    "train['category'].value_counts()"
   ]
  },
  {
   "cell_type": "code",
   "execution_count": 0,
   "metadata": {
    "colab": {
     "base_uri": "https://localhost:8080/",
     "height": 70
    },
    "colab_type": "code",
    "id": "X6dZm2x_6_R6",
    "outputId": "bdd6ca8d-205d-4aa4-9cc4-058904637cba"
   },
   "outputs": [
    {
     "data": {
      "text/plain": [
       "image       0\n",
       "category    0\n",
       "dtype: int64"
      ]
     },
     "execution_count": 11,
     "metadata": {
      "tags": []
     },
     "output_type": "execute_result"
    }
   ],
   "source": [
    "train.isnull().sum()"
   ]
  },
  {
   "cell_type": "code",
   "execution_count": 0,
   "metadata": {
    "colab": {
     "base_uri": "https://localhost:8080/",
     "height": 52
    },
    "colab_type": "code",
    "id": "ULYcn00ROUkz",
    "outputId": "a5977dbf-4308-4766-9bf4-1af44d761994"
   },
   "outputs": [
    {
     "data": {
      "text/plain": [
       "image    0\n",
       "dtype: int64"
      ]
     },
     "execution_count": 12,
     "metadata": {
      "tags": []
     },
     "output_type": "execute_result"
    }
   ],
   "source": [
    "test.isnull().sum()"
   ]
  },
  {
   "cell_type": "code",
   "execution_count": 0,
   "metadata": {
    "colab": {
     "base_uri": "https://localhost:8080/",
     "height": 35
    },
    "colab_type": "code",
    "id": "Rv8JXlHt8s53",
    "outputId": "cc8e3a3f-058a-48ec-8e3f-b58778463bed"
   },
   "outputs": [
    {
     "name": "stderr",
     "output_type": "stream",
     "text": [
      "Using TensorFlow backend.\n"
     ]
    }
   ],
   "source": [
    "from keras_preprocessing.image import ImageDataGenerator\n",
    "from keras.layers import Dense, Activation, Flatten, Dropout, BatchNormalization\n",
    "from keras.layers import Conv2D, MaxPooling2D\n",
    "from keras.optimizers import Adam"
   ]
  },
  {
   "cell_type": "code",
   "execution_count": 0,
   "metadata": {
    "colab": {},
    "colab_type": "code",
    "id": "nXYVsbxLBXeU"
   },
   "outputs": [],
   "source": [
    "datagen=ImageDataGenerator(rescale=1./255.)\n",
    "test_datagen=ImageDataGenerator(rescale=1./255.)"
   ]
  },
  {
   "cell_type": "code",
   "execution_count": 0,
   "metadata": {
    "colab": {
     "base_uri": "https://localhost:8080/",
     "height": 275
    },
    "colab_type": "code",
    "id": "X-pYd4LtaUll",
    "outputId": "c250fde2-021e-4f7f-a6f5-cf24005edd32"
   },
   "outputs": [
    {
     "name": "stdout",
     "output_type": "stream",
     "text": [
      "A sample image from training set\n",
      "\n"
     ]
    },
    {
     "data": {
      "image/jpeg": "[encoded data removed]",
      "text/plain": [
       "<IPython.core.display.Image object>"
      ]
     },
     "execution_count": 15,
     "metadata": {
      "image/jpeg": {
       "height": 224,
       "width": 224
      },
      "tags": []
     },
     "output_type": "execute_result"
    }
   ],
   "source": [
    "from IPython.display import Image\n",
    "\n",
    "PATH = \"./images/\"\n",
    "print(\"A sample image from training set\\n\")\n",
    "Image(filename = PATH + train[\"image\"][0], width=299, height=299)"
   ]
  },
  {
   "cell_type": "code",
   "execution_count": 0,
   "metadata": {
    "colab": {
     "base_uri": "https://localhost:8080/",
     "height": 275
    },
    "colab_type": "code",
    "id": "7C5qOSx8dLo7",
    "outputId": "4fa0fbfc-7535-4415-ccd4-f59f40838743"
   },
   "outputs": [
    {
     "name": "stdout",
     "output_type": "stream",
     "text": [
      "A sample image from validation set\n",
      "\n"
     ]
    },
    {
     "data": {
      "image/jpeg": "[encoded data removed]",
      "text/plain": [
       "<IPython.core.display.Image object>"
      ]
     },
     "execution_count": 16,
     "metadata": {
      "image/jpeg": {
       "height": 224,
       "width": 224
      },
      "tags": []
     },
     "output_type": "execute_result"
    }
   ],
   "source": [
    "print(\"A sample image from validation set\\n\")\n",
    "Image(filename = PATH + train[\"image\"][5006], width=299, height=299)"
   ]
  },
  {
   "cell_type": "code",
   "execution_count": 0,
   "metadata": {
    "colab": {
     "base_uri": "https://localhost:8080/",
     "height": 275
    },
    "colab_type": "code",
    "id": "ssh-aI4HdObq",
    "outputId": "72a8ce01-8dac-4e02-996f-322694023e1c"
   },
   "outputs": [
    {
     "name": "stdout",
     "output_type": "stream",
     "text": [
      "A sample image from test set\n",
      "\n"
     ]
    },
    {
     "data": {
      "image/jpeg": "[encoded data removed]",
      "text/plain": [
       "<IPython.core.display.Image object>"
      ]
     },
     "execution_count": 17,
     "metadata": {
      "image/jpeg": {
       "height": 224,
       "width": 224
      },
      "tags": []
     },
     "output_type": "execute_result"
    }
   ],
   "source": [
    "print(\"A sample image from test set\\n\")\n",
    "Image(filename = PATH + test[\"image\"][2000], width=299, height=299)"
   ]
  },
  {
   "cell_type": "code",
   "execution_count": 0,
   "metadata": {
    "colab": {},
    "colab_type": "code",
    "id": "VNIfv7p1u3Zg"
   },
   "outputs": [],
   "source": [
    "batch_size = 16"
   ]
  },
  {
   "cell_type": "code",
   "execution_count": 0,
   "metadata": {
    "colab": {},
    "colab_type": "code",
    "id": "iAkmRbn41Gkr"
   },
   "outputs": [],
   "source": [
    "temp = []\n",
    "for i in range (len(train['category'])):\n",
    "  local = str(train['category'][i])\n",
    "  temp.append(local)\n",
    "train.insert(2, \"String_category\", temp)"
   ]
  },
  {
   "cell_type": "code",
   "execution_count": 0,
   "metadata": {
    "colab": {
     "base_uri": "https://localhost:8080/",
     "height": 68
    },
    "colab_type": "code",
    "id": "7bhOZVP8CFVV",
    "outputId": "266abaa9-bae3-4c92-d8b1-ce656e1e2f8b"
   },
   "outputs": [
    {
     "name": "stdout",
     "output_type": "stream",
     "text": [
      "Found 5000 images belonging to 5 classes.\n",
      "Found 1252 images belonging to 5 classes.\n",
      "Found 2680 images.\n"
     ]
    }
   ],
   "source": [
    "train_generator = datagen.flow_from_dataframe(dataframe=train[:5000], directory=\"./images/\",\n",
    "                                            x_col=\"image\", y_col=\"String_category\", batch_size=batch_size, shuffle=True, class_mode=\"categorical\", target_size=(299,299))\n",
    "valid_generator = datagen.flow_from_dataframe(dataframe=train[5000:], directory=\"./images/\",\n",
    "                                            x_col=\"image\", y_col=\"String_category\", batch_size=batch_size, shuffle=True, class_mode=\"categorical\", target_size=(299,299))\n",
    "test_generator  = datagen.flow_from_dataframe(dataframe=test, directory=\"./images/\",\n",
    "                                            x_col=\"image\", batch_size=1, shuffle=False, class_mode=None, target_size=(299,299))"
   ]
  },
  {
   "cell_type": "code",
   "execution_count": 0,
   "metadata": {
    "colab": {
     "base_uri": "https://localhost:8080/",
     "height": 88
    },
    "colab_type": "code",
    "id": "bzf7QvVkZ9Oz",
    "outputId": "24b1a3ec-e690-493b-becf-3e70dbe2c8b6"
   },
   "outputs": [
    {
     "name": "stdout",
     "output_type": "stream",
     "text": [
      "WARNING:tensorflow:From /usr/local/lib/python3.6/dist-packages/tensorflow/python/framework/op_def_library.py:263: colocate_with (from tensorflow.python.framework.ops) is deprecated and will be removed in a future version.\n",
      "Instructions for updating:\n",
      "Colocations handled automatically by placer.\n"
     ]
    }
   ],
   "source": [
    "from keras.applications.inception_v3 import InceptionV3,preprocess_input,decode_predictions\n",
    "base_model=InceptionV3(include_top=False,weights='imagenet')\n",
    "base_model.trainable=False"
   ]
  },
  {
   "cell_type": "code",
   "execution_count": 0,
   "metadata": {
    "colab": {
     "base_uri": "https://localhost:8080/",
     "height": 884
    },
    "colab_type": "code",
    "id": "ctwkKkXso33v",
    "outputId": "daac7cb7-b38c-4a47-d1f0-26a28742330a"
   },
   "outputs": [
    {
     "name": "stdout",
     "output_type": "stream",
     "text": [
      "_________________________________________________________________\n",
      "Layer (type)                 Output Shape              Param #   \n",
      "=================================================================\n",
      "input_1 (InputLayer)         (None, None, None, 3)     0         \n",
      "_________________________________________________________________\n",
      "block1_conv1 (Conv2D)        (None, None, None, 64)    1792      \n",
      "_________________________________________________________________\n",
      "block1_conv2 (Conv2D)        (None, None, None, 64)    36928     \n",
      "_________________________________________________________________\n",
      "block1_pool (MaxPooling2D)   (None, None, None, 64)    0         \n",
      "_________________________________________________________________\n",
      "block2_conv1 (Conv2D)        (None, None, None, 128)   73856     \n",
      "_________________________________________________________________\n",
      "block2_conv2 (Conv2D)        (None, None, None, 128)   147584    \n",
      "_________________________________________________________________\n",
      "block2_pool (MaxPooling2D)   (None, None, None, 128)   0         \n",
      "_________________________________________________________________\n",
      "block3_conv1 (Conv2D)        (None, None, None, 256)   295168    \n",
      "_________________________________________________________________\n",
      "block3_conv2 (Conv2D)        (None, None, None, 256)   590080    \n",
      "_________________________________________________________________\n",
      "block3_conv3 (Conv2D)        (None, None, None, 256)   590080    \n",
      "_________________________________________________________________\n",
      "block3_conv4 (Conv2D)        (None, None, None, 256)   590080    \n",
      "_________________________________________________________________\n",
      "block3_pool (MaxPooling2D)   (None, None, None, 256)   0         \n",
      "_________________________________________________________________\n",
      "block4_conv1 (Conv2D)        (None, None, None, 512)   1180160   \n",
      "_________________________________________________________________\n",
      "block4_conv2 (Conv2D)        (None, None, None, 512)   2359808   \n",
      "_________________________________________________________________\n",
      "block4_conv3 (Conv2D)        (None, None, None, 512)   2359808   \n",
      "_________________________________________________________________\n",
      "block4_conv4 (Conv2D)        (None, None, None, 512)   2359808   \n",
      "_________________________________________________________________\n",
      "block4_pool (MaxPooling2D)   (None, None, None, 512)   0         \n",
      "_________________________________________________________________\n",
      "block5_conv1 (Conv2D)        (None, None, None, 512)   2359808   \n",
      "_________________________________________________________________\n",
      "block5_conv2 (Conv2D)        (None, None, None, 512)   2359808   \n",
      "_________________________________________________________________\n",
      "block5_conv3 (Conv2D)        (None, None, None, 512)   2359808   \n",
      "_________________________________________________________________\n",
      "block5_conv4 (Conv2D)        (None, None, None, 512)   2359808   \n",
      "_________________________________________________________________\n",
      "block5_pool (MaxPooling2D)   (None, None, None, 512)   0         \n",
      "=================================================================\n",
      "Total params: 20,024,384\n",
      "Trainable params: 0\n",
      "Non-trainable params: 20,024,384\n",
      "_________________________________________________________________\n"
     ]
    }
   ],
   "source": [
    "base_model.summary()"
   ]
  },
  {
   "cell_type": "code",
   "execution_count": 0,
   "metadata": {
    "colab": {},
    "colab_type": "code",
    "id": "mWk8CvBypMuf"
   },
   "outputs": [],
   "source": [
    "from keras.applications.inception_v3 import InceptionV3\n",
    "from keras.utils.vis_utils import plot_model\n",
    "\n",
    "plot_model(base_model, to_file='Inception.png')"
   ]
  },
  {
   "cell_type": "code",
   "execution_count": 0,
   "metadata": {
    "colab": {
     "base_uri": "https://localhost:8080/",
     "height": 2121
    },
    "colab_type": "code",
    "id": "SOsgNvmIpY3O",
    "outputId": "841894e5-0e3e-4298-d154-82d97ad0c466"
   },
   "outputs": [
    {
     "data": {
      "image/png": "[encoded data removed]",
      "text/plain": [
       "<IPython.core.display.Image object>"
      ]
     },
     "execution_count": 24,
     "metadata": {
      "tags": []
     },
     "output_type": "execute_result"
    }
   ],
   "source": [
    "Image(filename = \"Inception.png\")"
   ]
  },
  {
   "cell_type": "code",
   "execution_count": 0,
   "metadata": {
    "colab": {},
    "colab_type": "code",
    "id": "lqJ-mwKrd8LM"
   },
   "outputs": [],
   "source": [
    "from keras.engine.input_layer import Input\n",
    "\n",
    "pt_features = Input(base_model.get_output_shape_at(0)[1:], name = 'feature_input')\n",
    "pt_depth = base_model.get_output_shape_at(0)[-1]"
   ]
  },
  {
   "cell_type": "code",
   "execution_count": 0,
   "metadata": {
    "colab": {
     "base_uri": "https://localhost:8080/",
     "height": 88
    },
    "colab_type": "code",
    "id": "mLPv7jj7eDRa",
    "outputId": "cb5b4e5a-bd35-4d79-82d1-f5955a3dd219"
   },
   "outputs": [
    {
     "name": "stdout",
     "output_type": "stream",
     "text": [
      "WARNING:tensorflow:From /usr/local/lib/python3.6/dist-packages/keras/backend/tensorflow_backend.py:3445: calling dropout (from tensorflow.python.ops.nn_ops) with keep_prob is deprecated and will be removed in a future version.\n",
      "Instructions for updating:\n",
      "Please use `rate` instead of `keep_prob`. Rate should be set to `rate = 1 - keep_prob`.\n"
     ]
    }
   ],
   "source": [
    "from keras.layers import AveragePooling2D, GlobalAveragePooling2D, multiply, Lambda\n",
    "from keras.models import Model\n",
    "\n",
    "bn_features = BatchNormalization()(pt_features)\n",
    "\n",
    "# here we do an attention mechanism to turn pixels in the GAP on an off\n",
    "\n",
    "attn_layer = Conv2D(128, kernel_size = (1,1), padding = 'same', activation = 'relu')(bn_features)\n",
    "attn_layer = Conv2D(32, kernel_size = (1,1), padding = 'same', activation = 'relu')(attn_layer)\n",
    "attn_layer = Conv2D(16, kernel_size = (1,1), padding = 'same', activation = 'relu')(attn_layer)\n",
    "attn_layer = AveragePooling2D((2,2), strides = (1,1), padding = 'same')(attn_layer) # smooth results\n",
    "attn_layer = Conv2D(1, kernel_size = (1,1), padding = 'valid', activation = 'softmax')(attn_layer)\n",
    "\n",
    "# fan it out to all of the channels\n",
    "\n",
    "up_c2_w = np.ones((1, 1, 1, pt_depth))\n",
    "up_c2 = Conv2D(pt_depth, kernel_size = (1,1), padding = 'same', activation = 'linear', use_bias = False, weights = [up_c2_w])\n",
    "up_c2.trainable = False\n",
    "attn_layer = up_c2(attn_layer)\n",
    "\n",
    "mask_features = multiply([attn_layer, bn_features])\n",
    "gap_features = GlobalAveragePooling2D()(mask_features)\n",
    "\n",
    "gap_mask = GlobalAveragePooling2D()(attn_layer)\n",
    "\n",
    "# to account for missing values from the attention model\n",
    "\n",
    "gap = Lambda(lambda x: x[0]/x[1], name = 'RescaleGAP')([gap_features, gap_mask])\n",
    "gap_dr = Dropout(0.5)(gap)\n",
    "\n",
    "gap_features1 = GlobalAveragePooling2D()(mask_features)\n",
    "gap_mask1 = GlobalAveragePooling2D()(attn_layer)\n",
    "\n",
    "#to account for missing values from the attention model\n",
    "\n",
    "gap1 = Lambda(lambda x: x[0]/x[1], name = 'RescaleGAP')([gap_features1, gap_mask1])\n",
    "gap_dr1 = Dropout(0.5)(gap1)\n",
    "\n",
    "gap_features2 = GlobalAveragePooling2D()(mask_features)\n",
    "gap_mask2 = GlobalAveragePooling2D()(attn_layer)\n",
    "\n",
    "gap2 = Lambda(lambda x: x[0]/x[1], name = 'RescaleGAP')([gap_features2, gap_mask2])\n",
    "gap_dr2 = Dropout(0.5)(gap2)\n",
    "\n",
    "dr_steps = Dropout(0.5)(Dense(128, activation = 'relu')(gap_dr2))\n",
    "out_layer = Dense(5, activation = 'softmax')(dr_steps)\n",
    "\n",
    "attn_model = Model(inputs = [pt_features], outputs = [out_layer], name = 'attention_model')\n",
    "\n",
    "attn_model.compile(optimizer = Adam(lr = 1e-3, beta_1=0.9, beta_2 = 0.999, epsilon = None, decay = 0.0, amsgrad = True),\n",
    "              loss = 'categorical_crossentropy', metrics = ['accuracy', f1_score])"
   ]
  },
  {
   "cell_type": "code",
   "execution_count": 0,
   "metadata": {
    "colab": {
     "base_uri": "https://localhost:8080/",
     "height": 714
    },
    "colab_type": "code",
    "id": "j03DUyk4rSPp",
    "outputId": "5bcfd0af-8b2d-440d-c970-439b2ae020fd"
   },
   "outputs": [
    {
     "name": "stdout",
     "output_type": "stream",
     "text": [
      "__________________________________________________________________________________________________\n",
      "Layer (type)                    Output Shape         Param #     Connected to                     \n",
      "==================================================================================================\n",
      "feature_input (InputLayer)      (None, None, None, 5 0                                            \n",
      "__________________________________________________________________________________________________\n",
      "batch_normalization_1 (BatchNor (None, None, None, 5 2048        feature_input[0][0]              \n",
      "__________________________________________________________________________________________________\n",
      "conv2d_1 (Conv2D)               (None, None, None, 1 65664       batch_normalization_1[0][0]      \n",
      "__________________________________________________________________________________________________\n",
      "conv2d_2 (Conv2D)               (None, None, None, 3 4128        conv2d_1[0][0]                   \n",
      "__________________________________________________________________________________________________\n",
      "conv2d_3 (Conv2D)               (None, None, None, 1 528         conv2d_2[0][0]                   \n",
      "__________________________________________________________________________________________________\n",
      "average_pooling2d_1 (AveragePoo (None, None, None, 1 0           conv2d_3[0][0]                   \n",
      "__________________________________________________________________________________________________\n",
      "conv2d_4 (Conv2D)               (None, None, None, 1 17          average_pooling2d_1[0][0]        \n",
      "__________________________________________________________________________________________________\n",
      "conv2d_5 (Conv2D)               (None, None, None, 5 512         conv2d_4[0][0]                   \n",
      "__________________________________________________________________________________________________\n",
      "multiply_1 (Multiply)           (None, None, None, 5 0           conv2d_5[0][0]                   \n",
      "                                                                 batch_normalization_1[0][0]      \n",
      "__________________________________________________________________________________________________\n",
      "global_average_pooling2d_5 (Glo (None, 512)          0           multiply_1[0][0]                 \n",
      "__________________________________________________________________________________________________\n",
      "global_average_pooling2d_6 (Glo (None, 512)          0           conv2d_5[0][0]                   \n",
      "__________________________________________________________________________________________________\n",
      "RescaleGAP (Lambda)             (None, 512)          0           global_average_pooling2d_5[0][0] \n",
      "                                                                 global_average_pooling2d_6[0][0] \n",
      "__________________________________________________________________________________________________\n",
      "dropout_3 (Dropout)             (None, 512)          0           RescaleGAP[0][0]                 \n",
      "__________________________________________________________________________________________________\n",
      "dense_1 (Dense)                 (None, 128)          65664       dropout_3[0][0]                  \n",
      "__________________________________________________________________________________________________\n",
      "dropout_4 (Dropout)             (None, 128)          0           dense_1[0][0]                    \n",
      "__________________________________________________________________________________________________\n",
      "dense_2 (Dense)                 (None, 5)            645         dropout_4[0][0]                  \n",
      "==================================================================================================\n",
      "Total params: 139,206\n",
      "Trainable params: 137,670\n",
      "Non-trainable params: 1,536\n",
      "__________________________________________________________________________________________________\n"
     ]
    }
   ],
   "source": [
    "attn_model.summary()"
   ]
  },
  {
   "cell_type": "code",
   "execution_count": 0,
   "metadata": {
    "colab": {
     "base_uri": "https://localhost:8080/",
     "height": 204
    },
    "colab_type": "code",
    "id": "n5Ina-J7vYYn",
    "outputId": "b4002c52-ccce-481d-f1a4-288c59b87111"
   },
   "outputs": [
    {
     "name": "stdout",
     "output_type": "stream",
     "text": [
      "_________________________________________________________________\n",
      "Layer (type)                 Output Shape              Param #   \n",
      "=================================================================\n",
      "vgg19 (Model)                (None, None, None, 512)   20024384  \n",
      "_________________________________________________________________\n",
      "attention_model (Model)      (None, 5)                 139206    \n",
      "=================================================================\n",
      "Total params: 20,163,590\n",
      "Trainable params: 137,670\n",
      "Non-trainable params: 20,025,920\n",
      "_________________________________________________________________\n"
     ]
    }
   ],
   "source": [
    "from keras.models import Sequential\n",
    "\n",
    "model = Sequential(name = 'combined_model')\n",
    "model.add(base_model)\n",
    "model.add(attn_model)\n",
    "model.compile(optimizer = Adam(lr = 1e-3, beta_1=0.9, beta_2 = 0.999, epsilon = None, decay = 0.0, amsgrad = True),\n",
    "              loss = 'categorical_crossentropy', metrics = ['accuracy'])\n",
    "model.summary()"
   ]
  },
  {
   "cell_type": "code",
   "execution_count": 0,
   "metadata": {
    "colab": {
     "base_uri": "https://localhost:8080/",
     "height": 6939
    },
    "colab_type": "code",
    "id": "vc-LbCLKuZt7",
    "outputId": "3ffe360c-385f-404d-e209-3c2fb79efb5c"
   },
   "outputs": [
    {
     "name": "stdout",
     "output_type": "stream",
     "text": [
      "WARNING:tensorflow:From /usr/local/lib/python3.6/dist-packages/tensorflow/python/ops/math_ops.py:3066: to_int32 (from tensorflow.python.ops.math_ops) is deprecated and will be removed in a future version.\n",
      "Instructions for updating:\n",
      "Use tf.cast instead.\n",
      "WARNING:tensorflow:From /usr/local/lib/python3.6/dist-packages/tensorflow/python/ops/math_grad.py:102: div (from tensorflow.python.ops.math_ops) is deprecated and will be removed in a future version.\n",
      "Instructions for updating:\n",
      "Deprecated in favor of operator or tf.math.divide.\n",
      "Epoch 1/100\n",
      "312/312 [==============================] - 42s 136ms/step - loss: 1.0469 - acc: 0.5791 - val_loss: 0.6397 - val_acc: 0.7716\n",
      "\n",
      "Epoch 00001: val_acc improved from -inf to 0.77163, saving model to VGG19(Attn).hdf5\n",
      "Epoch 2/100\n",
      "312/312 [==============================] - 41s 132ms/step - loss: 0.8033 - acc: 0.6845 - val_loss: 0.5702 - val_acc: 0.7856\n",
      "\n",
      "Epoch 00002: val_acc improved from 0.77163 to 0.78560, saving model to VGG19(Attn).hdf5\n",
      "Epoch 3/100\n",
      "312/312 [==============================] - 39s 124ms/step - loss: 0.7544 - acc: 0.6941 - val_loss: 0.5485 - val_acc: 0.7896\n",
      "\n",
      "Epoch 00003: val_acc improved from 0.78560 to 0.78964, saving model to VGG19(Attn).hdf5\n",
      "Epoch 4/100\n",
      "312/312 [==============================] - 39s 125ms/step - loss: 0.7141 - acc: 0.7137 - val_loss: 0.5174 - val_acc: 0.7921\n",
      "\n",
      "Epoch 00004: val_acc improved from 0.78964 to 0.79207, saving model to VGG19(Attn).hdf5\n",
      "Epoch 5/100\n",
      "312/312 [==============================] - 39s 125ms/step - loss: 0.6953 - acc: 0.7250 - val_loss: 0.5002 - val_acc: 0.8115\n",
      "\n",
      "Epoch 00005: val_acc improved from 0.79207 to 0.81149, saving model to VGG19(Attn).hdf5\n",
      "Epoch 6/100\n",
      "312/312 [==============================] - 39s 125ms/step - loss: 0.6838 - acc: 0.7354 - val_loss: 0.4929 - val_acc: 0.8099\n",
      "\n",
      "Epoch 00006: val_acc did not improve from 0.81149\n",
      "Epoch 7/100\n",
      "312/312 [==============================] - 39s 125ms/step - loss: 0.6706 - acc: 0.7264 - val_loss: 0.5065 - val_acc: 0.8099\n",
      "\n",
      "Epoch 00007: val_acc did not improve from 0.81149\n",
      "Epoch 8/100\n",
      "312/312 [==============================] - 39s 125ms/step - loss: 0.6632 - acc: 0.7422 - val_loss: 0.4827 - val_acc: 0.8196\n",
      "\n",
      "Epoch 00008: val_acc improved from 0.81149 to 0.81958, saving model to VGG19(Attn).hdf5\n",
      "Epoch 9/100\n",
      "312/312 [==============================] - 39s 125ms/step - loss: 0.6604 - acc: 0.7364 - val_loss: 0.4839 - val_acc: 0.8212\n",
      "\n",
      "Epoch 00009: val_acc improved from 0.81958 to 0.82120, saving model to VGG19(Attn).hdf5\n",
      "Epoch 10/100\n",
      "312/312 [==============================] - 39s 125ms/step - loss: 0.6406 - acc: 0.7564 - val_loss: 0.4808 - val_acc: 0.8139\n",
      "\n",
      "Epoch 00010: val_acc did not improve from 0.82120\n",
      "Epoch 11/100\n",
      "312/312 [==============================] - 39s 125ms/step - loss: 0.6356 - acc: 0.7524 - val_loss: 0.4650 - val_acc: 0.8131\n",
      "\n",
      "Epoch 00011: val_acc did not improve from 0.82120\n",
      "Epoch 12/100\n",
      "312/312 [==============================] - 39s 125ms/step - loss: 0.6230 - acc: 0.7578 - val_loss: 0.4837 - val_acc: 0.8147\n",
      "\n",
      "Epoch 00012: val_acc did not improve from 0.82120\n",
      "Epoch 13/100\n",
      "312/312 [==============================] - 39s 125ms/step - loss: 0.6288 - acc: 0.7566 - val_loss: 0.4645 - val_acc: 0.8204\n",
      "\n",
      "Epoch 00013: val_acc did not improve from 0.82120\n",
      "Epoch 14/100\n",
      "312/312 [==============================] - 39s 125ms/step - loss: 0.6202 - acc: 0.7566 - val_loss: 0.4572 - val_acc: 0.8333\n",
      "\n",
      "Epoch 00014: val_acc improved from 0.82120 to 0.83333, saving model to VGG19(Attn).hdf5\n",
      "Epoch 15/100\n",
      "312/312 [==============================] - 39s 125ms/step - loss: 0.6201 - acc: 0.7602 - val_loss: 0.4855 - val_acc: 0.8163\n",
      "\n",
      "Epoch 00015: val_acc did not improve from 0.83333\n",
      "Epoch 16/100\n",
      "312/312 [==============================] - 39s 125ms/step - loss: 0.6189 - acc: 0.7588 - val_loss: 0.4552 - val_acc: 0.8277\n",
      "\n",
      "Epoch 00016: val_acc did not improve from 0.83333\n",
      "Epoch 17/100\n",
      "312/312 [==============================] - 39s 125ms/step - loss: 0.5957 - acc: 0.7690 - val_loss: 0.4795 - val_acc: 0.8131\n",
      "\n",
      "Epoch 00017: val_acc did not improve from 0.83333\n",
      "Epoch 18/100\n",
      "312/312 [==============================] - 39s 124ms/step - loss: 0.5996 - acc: 0.7682 - val_loss: 0.4444 - val_acc: 0.8285\n",
      "\n",
      "Epoch 00018: val_acc did not improve from 0.83333\n",
      "Epoch 19/100\n",
      "312/312 [==============================] - 39s 125ms/step - loss: 0.6015 - acc: 0.7730 - val_loss: 0.4724 - val_acc: 0.8390\n",
      "\n",
      "Epoch 00019: val_acc improved from 0.83333 to 0.83900, saving model to VGG19(Attn).hdf5\n",
      "Epoch 20/100\n",
      "312/312 [==============================] - 39s 124ms/step - loss: 0.5907 - acc: 0.7660 - val_loss: 0.4645 - val_acc: 0.8301\n",
      "\n",
      "Epoch 00020: val_acc did not improve from 0.83900\n",
      "Epoch 21/100\n",
      "312/312 [==============================] - 39s 125ms/step - loss: 0.5781 - acc: 0.7808 - val_loss: 0.4602 - val_acc: 0.8269\n",
      "\n",
      "Epoch 00021: val_acc did not improve from 0.83900\n",
      "Epoch 22/100\n",
      "312/312 [==============================] - 39s 124ms/step - loss: 0.5908 - acc: 0.7676 - val_loss: 0.4409 - val_acc: 0.8455\n",
      "\n",
      "Epoch 00022: val_acc improved from 0.83900 to 0.84547, saving model to VGG19(Attn).hdf5\n",
      "Epoch 23/100\n",
      "312/312 [==============================] - 39s 125ms/step - loss: 0.5903 - acc: 0.7708 - val_loss: 0.4641 - val_acc: 0.8212\n",
      "\n",
      "Epoch 00023: val_acc did not improve from 0.84547\n",
      "Epoch 24/100\n",
      "312/312 [==============================] - 39s 125ms/step - loss: 0.5909 - acc: 0.7666 - val_loss: 0.4399 - val_acc: 0.8333\n",
      "\n",
      "Epoch 00024: val_acc did not improve from 0.84547\n",
      "Epoch 25/100\n",
      "312/312 [==============================] - 39s 124ms/step - loss: 0.5708 - acc: 0.7772 - val_loss: 0.4529 - val_acc: 0.8350\n",
      "\n",
      "Epoch 00025: val_acc did not improve from 0.84547\n",
      "Epoch 26/100\n",
      "312/312 [==============================] - 39s 124ms/step - loss: 0.5801 - acc: 0.7766 - val_loss: 0.4461 - val_acc: 0.8325\n",
      "\n",
      "Epoch 00026: val_acc did not improve from 0.84547\n",
      "Epoch 27/100\n",
      "312/312 [==============================] - 39s 124ms/step - loss: 0.5652 - acc: 0.7863 - val_loss: 0.4393 - val_acc: 0.8309\n",
      "\n",
      "Epoch 00027: val_acc did not improve from 0.84547\n",
      "Epoch 28/100\n",
      "312/312 [==============================] - 39s 125ms/step - loss: 0.5734 - acc: 0.7813 - val_loss: 0.4456 - val_acc: 0.8277\n",
      "\n",
      "Epoch 00028: val_acc did not improve from 0.84547\n",
      "Epoch 29/100\n",
      "312/312 [==============================] - 39s 124ms/step - loss: 0.5759 - acc: 0.7827 - val_loss: 0.4479 - val_acc: 0.8350\n",
      "\n",
      "Epoch 00029: val_acc did not improve from 0.84547\n",
      "Epoch 30/100\n",
      "312/312 [==============================] - 39s 125ms/step - loss: 0.5410 - acc: 0.7869 - val_loss: 0.4451 - val_acc: 0.8269\n",
      "\n",
      "Epoch 00030: val_acc did not improve from 0.84547\n",
      "Epoch 31/100\n",
      "312/312 [==============================] - 39s 125ms/step - loss: 0.5700 - acc: 0.7784 - val_loss: 0.4604 - val_acc: 0.8228\n",
      "\n",
      "Epoch 00031: val_acc did not improve from 0.84547\n",
      "Epoch 32/100\n",
      "312/312 [==============================] - 39s 125ms/step - loss: 0.5668 - acc: 0.7833 - val_loss: 0.4348 - val_acc: 0.8382\n",
      "\n",
      "Epoch 00032: val_acc did not improve from 0.84547\n",
      "Epoch 33/100\n",
      "312/312 [==============================] - 39s 124ms/step - loss: 0.5627 - acc: 0.7809 - val_loss: 0.4291 - val_acc: 0.8487\n",
      "\n",
      "Epoch 00033: val_acc improved from 0.84547 to 0.84871, saving model to VGG19(Attn).hdf5\n",
      "Epoch 34/100\n",
      "312/312 [==============================] - 39s 125ms/step - loss: 0.5475 - acc: 0.7857 - val_loss: 0.4602 - val_acc: 0.8277\n",
      "\n",
      "Epoch 00034: val_acc did not improve from 0.84871\n",
      "Epoch 35/100\n",
      "312/312 [==============================] - 39s 125ms/step - loss: 0.5362 - acc: 0.7993 - val_loss: 0.4418 - val_acc: 0.8317\n",
      "\n",
      "Epoch 00035: val_acc did not improve from 0.84871\n",
      "Epoch 36/100\n",
      "312/312 [==============================] - 39s 125ms/step - loss: 0.5733 - acc: 0.7780 - val_loss: 0.4490 - val_acc: 0.8366\n",
      "\n",
      "Epoch 00036: val_acc did not improve from 0.84871\n",
      "Epoch 37/100\n",
      "312/312 [==============================] - 39s 125ms/step - loss: 0.5557 - acc: 0.7871 - val_loss: 0.4355 - val_acc: 0.8333\n",
      "\n",
      "Epoch 00037: val_acc did not improve from 0.84871\n",
      "Epoch 38/100\n",
      "312/312 [==============================] - 39s 125ms/step - loss: 0.5353 - acc: 0.7943 - val_loss: 0.4740 - val_acc: 0.8261\n",
      "\n",
      "Epoch 00038: val_acc did not improve from 0.84871\n",
      "Epoch 39/100\n",
      "312/312 [==============================] - 39s 125ms/step - loss: 0.5289 - acc: 0.7967 - val_loss: 0.4386 - val_acc: 0.8309\n",
      "\n",
      "Epoch 00039: val_acc did not improve from 0.84871\n",
      "Epoch 40/100\n",
      "312/312 [==============================] - 39s 125ms/step - loss: 0.5487 - acc: 0.7871 - val_loss: 0.4259 - val_acc: 0.8309\n",
      "\n",
      "Epoch 00040: val_acc did not improve from 0.84871\n",
      "Epoch 41/100\n",
      "312/312 [==============================] - 39s 125ms/step - loss: 0.5346 - acc: 0.7959 - val_loss: 0.4488 - val_acc: 0.8309\n",
      "\n",
      "Epoch 00041: val_acc did not improve from 0.84871\n",
      "Epoch 42/100\n",
      "312/312 [==============================] - 39s 125ms/step - loss: 0.5437 - acc: 0.7879 - val_loss: 0.4411 - val_acc: 0.8350\n",
      "\n",
      "Epoch 00042: val_acc did not improve from 0.84871\n",
      "Epoch 43/100\n",
      "312/312 [==============================] - 39s 125ms/step - loss: 0.5357 - acc: 0.7895 - val_loss: 0.4540 - val_acc: 0.8228\n",
      "\n",
      "Epoch 00043: val_acc did not improve from 0.84871\n",
      "Epoch 44/100\n",
      "312/312 [==============================] - 39s 125ms/step - loss: 0.5442 - acc: 0.7881 - val_loss: 0.4345 - val_acc: 0.8358\n",
      "\n",
      "Epoch 00044: val_acc did not improve from 0.84871\n",
      "Epoch 45/100\n",
      "312/312 [==============================] - 39s 125ms/step - loss: 0.5352 - acc: 0.7951 - val_loss: 0.4262 - val_acc: 0.8358\n",
      "\n",
      "Epoch 00045: val_acc did not improve from 0.84871\n",
      "Epoch 46/100\n",
      "312/312 [==============================] - 39s 125ms/step - loss: 0.5243 - acc: 0.8013 - val_loss: 0.4497 - val_acc: 0.8188\n",
      "\n",
      "Epoch 00046: val_acc did not improve from 0.84871\n",
      "Epoch 47/100\n",
      "312/312 [==============================] - 39s 125ms/step - loss: 0.5451 - acc: 0.7819 - val_loss: 0.4280 - val_acc: 0.8430\n",
      "\n",
      "Epoch 00047: val_acc did not improve from 0.84871\n",
      "Epoch 48/100\n",
      "312/312 [==============================] - 39s 125ms/step - loss: 0.5299 - acc: 0.7879 - val_loss: 0.4345 - val_acc: 0.8317\n",
      "\n",
      "Epoch 00048: val_acc did not improve from 0.84871\n",
      "Epoch 49/100\n",
      "312/312 [==============================] - 39s 125ms/step - loss: 0.5272 - acc: 0.7975 - val_loss: 0.4638 - val_acc: 0.8309\n",
      "\n",
      "Epoch 00049: val_acc did not improve from 0.84871\n",
      "Epoch 50/100\n",
      "312/312 [==============================] - 39s 125ms/step - loss: 0.5285 - acc: 0.8019 - val_loss: 0.4373 - val_acc: 0.8398\n",
      "\n",
      "Epoch 00050: val_acc did not improve from 0.84871\n",
      "Epoch 51/100\n",
      "312/312 [==============================] - 39s 125ms/step - loss: 0.5001 - acc: 0.8079 - val_loss: 0.4056 - val_acc: 0.8487\n",
      "\n",
      "Epoch 00051: val_acc did not improve from 0.84871\n",
      "Epoch 52/100\n",
      "312/312 [==============================] - 39s 124ms/step - loss: 0.5378 - acc: 0.7947 - val_loss: 0.4210 - val_acc: 0.8414\n",
      "\n",
      "Epoch 00052: val_acc did not improve from 0.84871\n",
      "Epoch 53/100\n",
      "312/312 [==============================] - 39s 124ms/step - loss: 0.5221 - acc: 0.7957 - val_loss: 0.4277 - val_acc: 0.8439\n",
      "\n",
      "Epoch 00053: val_acc did not improve from 0.84871\n",
      "Epoch 54/100\n",
      "312/312 [==============================] - 39s 125ms/step - loss: 0.5326 - acc: 0.7897 - val_loss: 0.4520 - val_acc: 0.8309\n",
      "\n",
      "Epoch 00054: val_acc did not improve from 0.84871\n",
      "Epoch 55/100\n",
      "312/312 [==============================] - 39s 124ms/step - loss: 0.5240 - acc: 0.7957 - val_loss: 0.4543 - val_acc: 0.8285\n",
      "\n",
      "Epoch 00055: val_acc did not improve from 0.84871\n",
      "Epoch 56/100\n",
      "312/312 [==============================] - 39s 125ms/step - loss: 0.5134 - acc: 0.8025 - val_loss: 0.4184 - val_acc: 0.8439\n",
      "\n",
      "Epoch 00056: val_acc did not improve from 0.84871\n",
      "Epoch 57/100\n",
      "312/312 [==============================] - 39s 125ms/step - loss: 0.5171 - acc: 0.8093 - val_loss: 0.4140 - val_acc: 0.8422\n",
      "\n",
      "Epoch 00057: val_acc did not improve from 0.84871\n",
      "Epoch 58/100\n",
      "312/312 [==============================] - 39s 125ms/step - loss: 0.5264 - acc: 0.8021 - val_loss: 0.4269 - val_acc: 0.8406\n",
      "\n",
      "Epoch 00058: val_acc did not improve from 0.84871\n",
      "Epoch 59/100\n",
      "312/312 [==============================] - 39s 125ms/step - loss: 0.5195 - acc: 0.8003 - val_loss: 0.4494 - val_acc: 0.8325\n",
      "\n",
      "Epoch 00059: val_acc did not improve from 0.84871\n",
      "Epoch 60/100\n",
      "312/312 [==============================] - 39s 125ms/step - loss: 0.5176 - acc: 0.8039 - val_loss: 0.4257 - val_acc: 0.8398\n",
      "\n",
      "Epoch 00060: val_acc did not improve from 0.84871\n",
      "Epoch 61/100\n",
      "312/312 [==============================] - 39s 125ms/step - loss: 0.5001 - acc: 0.8049 - val_loss: 0.4340 - val_acc: 0.8390\n",
      "\n",
      "Epoch 00061: val_acc did not improve from 0.84871\n",
      "Epoch 62/100\n",
      "312/312 [==============================] - 39s 125ms/step - loss: 0.5150 - acc: 0.8043 - val_loss: 0.4439 - val_acc: 0.8398\n",
      "\n",
      "Epoch 00062: val_acc did not improve from 0.84871\n",
      "Epoch 63/100\n",
      "312/312 [==============================] - 39s 125ms/step - loss: 0.5142 - acc: 0.8033 - val_loss: 0.4242 - val_acc: 0.8406\n",
      "\n",
      "Epoch 00063: val_acc did not improve from 0.84871\n",
      "Epoch 64/100\n",
      "312/312 [==============================] - 39s 125ms/step - loss: 0.5075 - acc: 0.8025 - val_loss: 0.4498 - val_acc: 0.8406\n",
      "\n",
      "Epoch 00064: val_acc did not improve from 0.84871\n",
      "Epoch 65/100\n",
      "312/312 [==============================] - 39s 125ms/step - loss: 0.5197 - acc: 0.7947 - val_loss: 0.4398 - val_acc: 0.8495\n",
      "\n",
      "Epoch 00065: val_acc improved from 0.84871 to 0.84951, saving model to VGG19(Attn).hdf5\n",
      "Epoch 66/100\n",
      "312/312 [==============================] - 39s 125ms/step - loss: 0.5320 - acc: 0.7955 - val_loss: 0.4204 - val_acc: 0.8463\n",
      "\n",
      "Epoch 00066: val_acc did not improve from 0.84951\n",
      "Epoch 67/100\n",
      "312/312 [==============================] - 39s 125ms/step - loss: 0.5080 - acc: 0.8137 - val_loss: 0.4427 - val_acc: 0.8447\n",
      "\n",
      "Epoch 00067: val_acc did not improve from 0.84951\n",
      "Epoch 68/100\n",
      "312/312 [==============================] - 39s 125ms/step - loss: 0.5165 - acc: 0.8031 - val_loss: 0.4337 - val_acc: 0.8422\n",
      "\n",
      "Epoch 00068: val_acc did not improve from 0.84951\n",
      "Epoch 69/100\n",
      "312/312 [==============================] - 39s 125ms/step - loss: 0.5060 - acc: 0.7999 - val_loss: 0.4391 - val_acc: 0.8455\n",
      "\n",
      "Epoch 00069: val_acc did not improve from 0.84951\n",
      "Epoch 70/100\n",
      "312/312 [==============================] - 39s 125ms/step - loss: 0.5156 - acc: 0.7975 - val_loss: 0.4501 - val_acc: 0.8309\n",
      "\n",
      "Epoch 00070: val_acc did not improve from 0.84951\n",
      "Epoch 71/100\n",
      "312/312 [==============================] - 39s 125ms/step - loss: 0.4991 - acc: 0.8103 - val_loss: 0.4256 - val_acc: 0.8528\n",
      "\n",
      "Epoch 00071: val_acc improved from 0.84951 to 0.85275, saving model to VGG19(Attn).hdf5\n",
      "Epoch 72/100\n",
      "312/312 [==============================] - 39s 124ms/step - loss: 0.4923 - acc: 0.8135 - val_loss: 0.4348 - val_acc: 0.8479\n",
      "\n",
      "Epoch 00072: val_acc did not improve from 0.85275\n",
      "Epoch 73/100\n",
      "312/312 [==============================] - 39s 125ms/step - loss: 0.4936 - acc: 0.8063 - val_loss: 0.4302 - val_acc: 0.8406\n",
      "\n",
      "Epoch 00073: val_acc did not improve from 0.85275\n",
      "Epoch 74/100\n",
      "312/312 [==============================] - 39s 125ms/step - loss: 0.5064 - acc: 0.8025 - val_loss: 0.4490 - val_acc: 0.8406\n",
      "\n",
      "Epoch 00074: val_acc did not improve from 0.85275\n",
      "Epoch 75/100\n",
      "312/312 [==============================] - 39s 124ms/step - loss: 0.4872 - acc: 0.8141 - val_loss: 0.4326 - val_acc: 0.8341\n",
      "\n",
      "Epoch 00075: val_acc did not improve from 0.85275\n",
      "Epoch 76/100\n",
      "312/312 [==============================] - 39s 125ms/step - loss: 0.5090 - acc: 0.7993 - val_loss: 0.4251 - val_acc: 0.8487\n",
      "\n",
      "Epoch 00076: val_acc did not improve from 0.85275\n",
      "Epoch 77/100\n",
      "312/312 [==============================] - 39s 125ms/step - loss: 0.5078 - acc: 0.8015 - val_loss: 0.4460 - val_acc: 0.8341\n",
      "\n",
      "Epoch 00077: val_acc did not improve from 0.85275\n",
      "Epoch 78/100\n",
      "312/312 [==============================] - 39s 124ms/step - loss: 0.4995 - acc: 0.8167 - val_loss: 0.4282 - val_acc: 0.8503\n",
      "\n",
      "Epoch 00078: val_acc did not improve from 0.85275\n",
      "Epoch 79/100\n",
      "312/312 [==============================] - 39s 125ms/step - loss: 0.4786 - acc: 0.8077 - val_loss: 0.4201 - val_acc: 0.8447\n",
      "\n",
      "Epoch 00079: val_acc did not improve from 0.85275\n",
      "Epoch 80/100\n",
      "312/312 [==============================] - 39s 125ms/step - loss: 0.5080 - acc: 0.8099 - val_loss: 0.4321 - val_acc: 0.8470\n",
      "\n",
      "Epoch 00080: val_acc did not improve from 0.85275\n",
      "Epoch 81/100\n",
      "312/312 [==============================] - 39s 125ms/step - loss: 0.5142 - acc: 0.7987 - val_loss: 0.4469 - val_acc: 0.8366\n",
      "\n",
      "Epoch 00081: val_acc did not improve from 0.85275\n",
      "Epoch 82/100\n",
      "312/312 [==============================] - 39s 125ms/step - loss: 0.4804 - acc: 0.8123 - val_loss: 0.4398 - val_acc: 0.8358\n",
      "\n",
      "Epoch 00082: val_acc did not improve from 0.85275\n",
      "Epoch 83/100\n",
      "312/312 [==============================] - 39s 125ms/step - loss: 0.4955 - acc: 0.8027 - val_loss: 0.4252 - val_acc: 0.8455\n",
      "\n",
      "Epoch 00083: val_acc did not improve from 0.85275\n",
      "Epoch 84/100\n",
      "312/312 [==============================] - 39s 125ms/step - loss: 0.4875 - acc: 0.8125 - val_loss: 0.4287 - val_acc: 0.8455\n",
      "\n",
      "Epoch 00084: val_acc did not improve from 0.85275\n",
      "Epoch 85/100\n",
      "312/312 [==============================] - 39s 125ms/step - loss: 0.4986 - acc: 0.8055 - val_loss: 0.4307 - val_acc: 0.8479\n",
      "\n",
      "Epoch 00085: val_acc did not improve from 0.85275\n",
      "Epoch 86/100\n",
      "312/312 [==============================] - 39s 125ms/step - loss: 0.5029 - acc: 0.8055 - val_loss: 0.4402 - val_acc: 0.8560\n",
      "\n",
      "Epoch 00086: val_acc improved from 0.85275 to 0.85599, saving model to VGG19(Attn).hdf5\n",
      "Epoch 87/100\n",
      "312/312 [==============================] - 39s 125ms/step - loss: 0.4933 - acc: 0.8177 - val_loss: 0.4069 - val_acc: 0.8544\n",
      "\n",
      "Epoch 00087: val_acc did not improve from 0.85599\n",
      "Epoch 88/100\n",
      "312/312 [==============================] - 39s 125ms/step - loss: 0.4995 - acc: 0.8147 - val_loss: 0.4283 - val_acc: 0.8406\n",
      "\n",
      "Epoch 00088: val_acc did not improve from 0.85599\n",
      "Epoch 89/100\n",
      "312/312 [==============================] - 39s 124ms/step - loss: 0.4939 - acc: 0.8053 - val_loss: 0.4272 - val_acc: 0.8503\n",
      "\n",
      "Epoch 00089: val_acc did not improve from 0.85599\n",
      "Epoch 90/100\n",
      "312/312 [==============================] - 39s 125ms/step - loss: 0.4889 - acc: 0.8063 - val_loss: 0.4134 - val_acc: 0.8519\n",
      "\n",
      "Epoch 00090: val_acc did not improve from 0.85599\n",
      "Epoch 91/100\n",
      "312/312 [==============================] - 39s 125ms/step - loss: 0.4992 - acc: 0.8047 - val_loss: 0.4488 - val_acc: 0.8398\n",
      "\n",
      "Epoch 00091: val_acc did not improve from 0.85599\n",
      "Epoch 92/100\n",
      "312/312 [==============================] - 39s 124ms/step - loss: 0.5003 - acc: 0.8061 - val_loss: 0.4093 - val_acc: 0.8552\n",
      "\n",
      "Epoch 00092: val_acc did not improve from 0.85599\n",
      "Epoch 93/100\n",
      "312/312 [==============================] - 39s 124ms/step - loss: 0.4794 - acc: 0.8113 - val_loss: 0.4588 - val_acc: 0.8463\n",
      "\n",
      "Epoch 00093: val_acc did not improve from 0.85599\n",
      "Epoch 94/100\n",
      "312/312 [==============================] - 39s 125ms/step - loss: 0.4829 - acc: 0.8159 - val_loss: 0.4026 - val_acc: 0.8552\n",
      "\n",
      "Epoch 00094: val_acc did not improve from 0.85599\n",
      "Epoch 95/100\n",
      "312/312 [==============================] - 39s 125ms/step - loss: 0.4816 - acc: 0.8151 - val_loss: 0.4370 - val_acc: 0.8398\n",
      "\n",
      "Epoch 00095: val_acc did not improve from 0.85599\n",
      "Epoch 96/100\n",
      "312/312 [==============================] - 39s 125ms/step - loss: 0.4894 - acc: 0.8149 - val_loss: 0.4306 - val_acc: 0.8422\n",
      "\n",
      "Epoch 00096: val_acc did not improve from 0.85599\n",
      "Epoch 97/100\n",
      "312/312 [==============================] - 39s 125ms/step - loss: 0.4767 - acc: 0.8173 - val_loss: 0.4216 - val_acc: 0.8455\n",
      "\n",
      "Epoch 00097: val_acc did not improve from 0.85599\n",
      "Epoch 98/100\n",
      "312/312 [==============================] - 39s 125ms/step - loss: 0.4861 - acc: 0.8087 - val_loss: 0.4486 - val_acc: 0.8309\n",
      "\n",
      "Epoch 00098: val_acc did not improve from 0.85599\n",
      "Epoch 99/100\n",
      "312/312 [==============================] - 39s 125ms/step - loss: 0.4989 - acc: 0.8055 - val_loss: 0.4380 - val_acc: 0.8447\n",
      "\n",
      "Epoch 00099: val_acc did not improve from 0.85599\n",
      "Epoch 100/100\n",
      "312/312 [==============================] - 39s 125ms/step - loss: 0.4972 - acc: 0.8133 - val_loss: 0.4442 - val_acc: 0.8455\n",
      "\n",
      "Epoch 00100: val_acc did not improve from 0.85599\n"
     ]
    }
   ],
   "source": [
    "from keras.callbacks import ModelCheckpoint\n",
    "checkpoint = ModelCheckpoint('Inception(Attn)Best.hdf5',\n",
    "                monitor='val_acc', verbose=1, save_best_only=True, \n",
    "                save_weights_only=True, mode='max', period=1)\n",
    "\n",
    "callbacks_list = [checkpoint]\n",
    "\n",
    "\n",
    "history = model.fit_generator(train_generator, steps_per_epoch=5000 // batch_size, \n",
    "                              epochs=100, callbacks=callbacks_list, \n",
    "                              validation_data=valid_generator, \n",
    "                              validation_steps=1252 // batch_size)\n"
   ]
  },
  {
   "cell_type": "code",
   "execution_count": 0,
   "metadata": {
    "colab": {},
    "colab_type": "code",
    "id": "BE45xSFyujm3"
   },
   "outputs": [],
   "source": [
    "model.save('Inception(Attn)-100epochs.h5')"
   ]
  },
  {
   "cell_type": "code",
   "execution_count": 0,
   "metadata": {
    "colab": {
     "base_uri": "https://localhost:8080/",
     "height": 763
    },
    "colab_type": "code",
    "id": "hbVWz8yr2uHZ",
    "outputId": "94d2bded-86f9-4aa7-ad27-91a07163e39d"
   },
   "outputs": [
    {
     "data": {
      "image/png": "[encoded data removed]",
      "text/plain": [
       "<Figure size 864x432 with 1 Axes>"
      ]
     },
     "metadata": {
      "tags": []
     },
     "output_type": "display_data"
    },
    {
     "data": {
      "image/png": "[encoded data removed]",
      "text/plain": [
       "<Figure size 864x432 with 1 Axes>"
      ]
     },
     "metadata": {
      "tags": []
     },
     "output_type": "display_data"
    }
   ],
   "source": [
    "from keras.callbacks import *\n",
    "import matplotlib.pyplot as plt\n",
    "\n",
    "plt.rcParams['figure.figsize'] = (12,6)\n",
    "\n",
    "acc = history.history['acc']\n",
    "val_acc = history.history['val_acc']\n",
    "loss = history.history['loss']\n",
    "val_loss = history.history['val_loss']\n",
    "epochs = range(1, len(acc) + 1)\n",
    "\n",
    "plt.title('Training and validation accuracy')\n",
    "plt.plot(epochs, acc, 'red', label='Training accuracy')\n",
    "plt.plot(epochs, val_acc, 'blue', label='Validation accuracy')\n",
    "plt.legend()\n",
    "\n",
    "plt.figure()\n",
    "plt.title('Training and validation loss')\n",
    "plt.plot(epochs, loss, 'red', label='Training loss')\n",
    "plt.plot(epochs, val_loss, 'blue', label='Validation loss')\n",
    "\n",
    "plt.legend()\n",
    "\n",
    "plt.show()\n"
   ]
  },
  {
   "cell_type": "code",
   "execution_count": 0,
   "metadata": {
    "colab": {},
    "colab_type": "code",
    "id": "nfDByLLw4cq9"
   },
   "outputs": [],
   "source": [
    "from keras.models import load_model\n",
    "model.load_weights('')"
   ]
  },
  {
   "cell_type": "code",
   "execution_count": 0,
   "metadata": {
    "colab": {
     "base_uri": "https://localhost:8080/",
     "height": 204
    },
    "colab_type": "code",
    "id": "0d3ta7fQ99UL",
    "outputId": "a6076296-1eef-4671-da6a-24dcfef53374"
   },
   "outputs": [
    {
     "data": {
      "text/html": [
       "<div>\n",
       "<style scoped>\n",
       "    .dataframe tbody tr th:only-of-type {\n",
       "        vertical-align: middle;\n",
       "    }\n",
       "\n",
       "    .dataframe tbody tr th {\n",
       "        vertical-align: top;\n",
       "    }\n",
       "\n",
       "    .dataframe thead th {\n",
       "        text-align: right;\n",
       "    }\n",
       "</style>\n",
       "<table border=\"1\" class=\"dataframe\">\n",
       "  <thead>\n",
       "    <tr style=\"text-align: right;\">\n",
       "      <th></th>\n",
       "      <th>image</th>\n",
       "      <th>category</th>\n",
       "    </tr>\n",
       "  </thead>\n",
       "  <tbody>\n",
       "    <tr>\n",
       "      <th>0</th>\n",
       "      <td>1007700.jpg</td>\n",
       "      <td>1</td>\n",
       "    </tr>\n",
       "    <tr>\n",
       "      <th>1</th>\n",
       "      <td>1011369.jpg</td>\n",
       "      <td>1</td>\n",
       "    </tr>\n",
       "    <tr>\n",
       "      <th>2</th>\n",
       "      <td>1051155.jpg</td>\n",
       "      <td>1</td>\n",
       "    </tr>\n",
       "    <tr>\n",
       "      <th>3</th>\n",
       "      <td>1062001.jpg</td>\n",
       "      <td>1</td>\n",
       "    </tr>\n",
       "    <tr>\n",
       "      <th>4</th>\n",
       "      <td>1069397.jpg</td>\n",
       "      <td>1</td>\n",
       "    </tr>\n",
       "  </tbody>\n",
       "</table>\n",
       "</div>"
      ],
      "text/plain": [
       "         image  category\n",
       "0  1007700.jpg         1\n",
       "1  1011369.jpg         1\n",
       "2  1051155.jpg         1\n",
       "3  1062001.jpg         1\n",
       "4  1069397.jpg         1"
      ]
     },
     "execution_count": 44,
     "metadata": {
      "tags": []
     },
     "output_type": "execute_result"
    }
   ],
   "source": [
    "submit = pd.read_csv('sample_submission_ns2btKE.csv')\n",
    "submit.head()"
   ]
  },
  {
   "cell_type": "code",
   "execution_count": 0,
   "metadata": {
    "colab": {
     "base_uri": "https://localhost:8080/",
     "height": 1969
    },
    "colab_type": "code",
    "id": "tmC9qpT0WRUE",
    "outputId": "5bba1bdf-7257-470c-e9ff-938022580b1c"
   },
   "outputs": [
    {
     "data": {
      "text/html": [
       "<div>\n",
       "<style scoped>\n",
       "    .dataframe tbody tr th:only-of-type {\n",
       "        vertical-align: middle;\n",
       "    }\n",
       "\n",
       "    .dataframe tbody tr th {\n",
       "        vertical-align: top;\n",
       "    }\n",
       "\n",
       "    .dataframe thead th {\n",
       "        text-align: right;\n",
       "    }\n",
       "</style>\n",
       "<table border=\"1\" class=\"dataframe\">\n",
       "  <thead>\n",
       "    <tr style=\"text-align: right;\">\n",
       "      <th></th>\n",
       "      <th>image</th>\n",
       "    </tr>\n",
       "  </thead>\n",
       "  <tbody>\n",
       "    <tr>\n",
       "      <th>0</th>\n",
       "      <td>1007700.jpg</td>\n",
       "    </tr>\n",
       "    <tr>\n",
       "      <th>1</th>\n",
       "      <td>1011369.jpg</td>\n",
       "    </tr>\n",
       "    <tr>\n",
       "      <th>2</th>\n",
       "      <td>1051155.jpg</td>\n",
       "    </tr>\n",
       "    <tr>\n",
       "      <th>3</th>\n",
       "      <td>1062001.jpg</td>\n",
       "    </tr>\n",
       "    <tr>\n",
       "      <th>4</th>\n",
       "      <td>1069397.jpg</td>\n",
       "    </tr>\n",
       "    <tr>\n",
       "      <th>5</th>\n",
       "      <td>1072861.jpg</td>\n",
       "    </tr>\n",
       "    <tr>\n",
       "      <th>6</th>\n",
       "      <td>1097264.jpg</td>\n",
       "    </tr>\n",
       "    <tr>\n",
       "      <th>7</th>\n",
       "      <td>1098763.jpg</td>\n",
       "    </tr>\n",
       "    <tr>\n",
       "      <th>8</th>\n",
       "      <td>1098766.jpg</td>\n",
       "    </tr>\n",
       "    <tr>\n",
       "      <th>9</th>\n",
       "      <td>1101145.jpg</td>\n",
       "    </tr>\n",
       "    <tr>\n",
       "      <th>10</th>\n",
       "      <td>1114371.jpg</td>\n",
       "    </tr>\n",
       "    <tr>\n",
       "      <th>11</th>\n",
       "      <td>1114781.jpg</td>\n",
       "    </tr>\n",
       "    <tr>\n",
       "      <th>12</th>\n",
       "      <td>1115492.jpg</td>\n",
       "    </tr>\n",
       "    <tr>\n",
       "      <th>13</th>\n",
       "      <td>1121306.jpg</td>\n",
       "    </tr>\n",
       "    <tr>\n",
       "      <th>14</th>\n",
       "      <td>1123736.jpg</td>\n",
       "    </tr>\n",
       "    <tr>\n",
       "      <th>15</th>\n",
       "      <td>1124946.jpg</td>\n",
       "    </tr>\n",
       "    <tr>\n",
       "      <th>16</th>\n",
       "      <td>1125700.jpg</td>\n",
       "    </tr>\n",
       "    <tr>\n",
       "      <th>17</th>\n",
       "      <td>1127236.jpg</td>\n",
       "    </tr>\n",
       "    <tr>\n",
       "      <th>18</th>\n",
       "      <td>1127336.jpg</td>\n",
       "    </tr>\n",
       "    <tr>\n",
       "      <th>19</th>\n",
       "      <td>1130300.jpg</td>\n",
       "    </tr>\n",
       "    <tr>\n",
       "      <th>20</th>\n",
       "      <td>1131990.jpg</td>\n",
       "    </tr>\n",
       "    <tr>\n",
       "      <th>21</th>\n",
       "      <td>1141996.jpg</td>\n",
       "    </tr>\n",
       "    <tr>\n",
       "      <th>22</th>\n",
       "      <td>1145082.jpg</td>\n",
       "    </tr>\n",
       "    <tr>\n",
       "      <th>23</th>\n",
       "      <td>1153400.jpg</td>\n",
       "    </tr>\n",
       "    <tr>\n",
       "      <th>24</th>\n",
       "      <td>1162763.jpg</td>\n",
       "    </tr>\n",
       "    <tr>\n",
       "      <th>25</th>\n",
       "      <td>1162764.jpg</td>\n",
       "    </tr>\n",
       "    <tr>\n",
       "      <th>26</th>\n",
       "      <td>1162765.jpg</td>\n",
       "    </tr>\n",
       "    <tr>\n",
       "      <th>27</th>\n",
       "      <td>1163874.jpg</td>\n",
       "    </tr>\n",
       "    <tr>\n",
       "      <th>28</th>\n",
       "      <td>1174623.jpg</td>\n",
       "    </tr>\n",
       "    <tr>\n",
       "      <th>29</th>\n",
       "      <td>1185778.jpg</td>\n",
       "    </tr>\n",
       "    <tr>\n",
       "      <th>...</th>\n",
       "      <td>...</td>\n",
       "    </tr>\n",
       "    <tr>\n",
       "      <th>2650</th>\n",
       "      <td>792101.jpg</td>\n",
       "    </tr>\n",
       "    <tr>\n",
       "      <th>2651</th>\n",
       "      <td>807046.jpg</td>\n",
       "    </tr>\n",
       "    <tr>\n",
       "      <th>2652</th>\n",
       "      <td>828391.jpg</td>\n",
       "    </tr>\n",
       "    <tr>\n",
       "      <th>2653</th>\n",
       "      <td>832478.jpg</td>\n",
       "    </tr>\n",
       "    <tr>\n",
       "      <th>2654</th>\n",
       "      <td>834991.jpg</td>\n",
       "    </tr>\n",
       "    <tr>\n",
       "      <th>2655</th>\n",
       "      <td>834998.jpg</td>\n",
       "    </tr>\n",
       "    <tr>\n",
       "      <th>2656</th>\n",
       "      <td>864096.jpg</td>\n",
       "    </tr>\n",
       "    <tr>\n",
       "      <th>2657</th>\n",
       "      <td>881579.jpg</td>\n",
       "    </tr>\n",
       "    <tr>\n",
       "      <th>2658</th>\n",
       "      <td>905067.jpg</td>\n",
       "    </tr>\n",
       "    <tr>\n",
       "      <th>2659</th>\n",
       "      <td>905069.jpg</td>\n",
       "    </tr>\n",
       "    <tr>\n",
       "      <th>2660</th>\n",
       "      <td>913261.jpg</td>\n",
       "    </tr>\n",
       "    <tr>\n",
       "      <th>2661</th>\n",
       "      <td>914029.jpg</td>\n",
       "    </tr>\n",
       "    <tr>\n",
       "      <th>2662</th>\n",
       "      <td>921004.jpg</td>\n",
       "    </tr>\n",
       "    <tr>\n",
       "      <th>2663</th>\n",
       "      <td>928066.jpg</td>\n",
       "    </tr>\n",
       "    <tr>\n",
       "      <th>2664</th>\n",
       "      <td>928647.jpg</td>\n",
       "    </tr>\n",
       "    <tr>\n",
       "      <th>2665</th>\n",
       "      <td>929534.jpg</td>\n",
       "    </tr>\n",
       "    <tr>\n",
       "      <th>2666</th>\n",
       "      <td>930293.jpg</td>\n",
       "    </tr>\n",
       "    <tr>\n",
       "      <th>2667</th>\n",
       "      <td>937491.jpg</td>\n",
       "    </tr>\n",
       "    <tr>\n",
       "      <th>2668</th>\n",
       "      <td>943560.jpg</td>\n",
       "    </tr>\n",
       "    <tr>\n",
       "      <th>2669</th>\n",
       "      <td>944853.jpg</td>\n",
       "    </tr>\n",
       "    <tr>\n",
       "      <th>2670</th>\n",
       "      <td>948344.jpg</td>\n",
       "    </tr>\n",
       "    <tr>\n",
       "      <th>2671</th>\n",
       "      <td>949995.jpg</td>\n",
       "    </tr>\n",
       "    <tr>\n",
       "      <th>2672</th>\n",
       "      <td>949997.jpg</td>\n",
       "    </tr>\n",
       "    <tr>\n",
       "      <th>2673</th>\n",
       "      <td>949999.jpg</td>\n",
       "    </tr>\n",
       "    <tr>\n",
       "      <th>2674</th>\n",
       "      <td>950580.jpg</td>\n",
       "    </tr>\n",
       "    <tr>\n",
       "      <th>2675</th>\n",
       "      <td>950995.jpg</td>\n",
       "    </tr>\n",
       "    <tr>\n",
       "      <th>2676</th>\n",
       "      <td>951046.jpg</td>\n",
       "    </tr>\n",
       "    <tr>\n",
       "      <th>2677</th>\n",
       "      <td>951323.jpg</td>\n",
       "    </tr>\n",
       "    <tr>\n",
       "      <th>2678</th>\n",
       "      <td>952113.jpg</td>\n",
       "    </tr>\n",
       "    <tr>\n",
       "      <th>2679</th>\n",
       "      <td>953982.jpg</td>\n",
       "    </tr>\n",
       "  </tbody>\n",
       "</table>\n",
       "<p>2680 rows × 1 columns</p>\n",
       "</div>"
      ],
      "text/plain": [
       "            image\n",
       "0     1007700.jpg\n",
       "1     1011369.jpg\n",
       "2     1051155.jpg\n",
       "3     1062001.jpg\n",
       "4     1069397.jpg\n",
       "5     1072861.jpg\n",
       "6     1097264.jpg\n",
       "7     1098763.jpg\n",
       "8     1098766.jpg\n",
       "9     1101145.jpg\n",
       "10    1114371.jpg\n",
       "11    1114781.jpg\n",
       "12    1115492.jpg\n",
       "13    1121306.jpg\n",
       "14    1123736.jpg\n",
       "15    1124946.jpg\n",
       "16    1125700.jpg\n",
       "17    1127236.jpg\n",
       "18    1127336.jpg\n",
       "19    1130300.jpg\n",
       "20    1131990.jpg\n",
       "21    1141996.jpg\n",
       "22    1145082.jpg\n",
       "23    1153400.jpg\n",
       "24    1162763.jpg\n",
       "25    1162764.jpg\n",
       "26    1162765.jpg\n",
       "27    1163874.jpg\n",
       "28    1174623.jpg\n",
       "29    1185778.jpg\n",
       "...           ...\n",
       "2650   792101.jpg\n",
       "2651   807046.jpg\n",
       "2652   828391.jpg\n",
       "2653   832478.jpg\n",
       "2654   834991.jpg\n",
       "2655   834998.jpg\n",
       "2656   864096.jpg\n",
       "2657   881579.jpg\n",
       "2658   905067.jpg\n",
       "2659   905069.jpg\n",
       "2660   913261.jpg\n",
       "2661   914029.jpg\n",
       "2662   921004.jpg\n",
       "2663   928066.jpg\n",
       "2664   928647.jpg\n",
       "2665   929534.jpg\n",
       "2666   930293.jpg\n",
       "2667   937491.jpg\n",
       "2668   943560.jpg\n",
       "2669   944853.jpg\n",
       "2670   948344.jpg\n",
       "2671   949995.jpg\n",
       "2672   949997.jpg\n",
       "2673   949999.jpg\n",
       "2674   950580.jpg\n",
       "2675   950995.jpg\n",
       "2676   951046.jpg\n",
       "2677   951323.jpg\n",
       "2678   952113.jpg\n",
       "2679   953982.jpg\n",
       "\n",
       "[2680 rows x 1 columns]"
      ]
     },
     "execution_count": 45,
     "metadata": {
      "tags": []
     },
     "output_type": "execute_result"
    }
   ],
   "source": [
    "submit.drop(columns = [\"category\"])"
   ]
  },
  {
   "cell_type": "code",
   "execution_count": 0,
   "metadata": {
    "colab": {},
    "colab_type": "code",
    "id": "mxqbuHC2U4zT"
   },
   "outputs": [],
   "source": [
    "submit.insert(1, \"category\", Y_test)"
   ]
  },
  {
   "cell_type": "code",
   "execution_count": 0,
   "metadata": {
    "colab": {},
    "colab_type": "code",
    "id": "CIAoaOGpWVkw"
   },
   "outputs": [],
   "source": [
    "submit.to_csv('submit_InceptionV3(Attn)100epochs.csv')"
   ]
  }
 ],
 "metadata": {
  "accelerator": "GPU",
  "colab": {
   "collapsed_sections": [],
   "name": "Approach 1 - Pretrained VGG19 with Attention.ipynb",
   "provenance": [],
   "version": "0.3.2"
  },
  "kernelspec": {
   "display_name": "Python 3",
   "language": "python",
   "name": "python3"
  },
  "language_info": {
   "codemirror_mode": {
    "name": "ipython",
    "version": 3
   },
   "file_extension": ".py",
   "mimetype": "text/x-python",
   "name": "python",
   "nbconvert_exporter": "python",
   "pygments_lexer": "ipython3",
   "version": "3.7.2"
  }
 },
 "nbformat": 4,
 "nbformat_minor": 1
}

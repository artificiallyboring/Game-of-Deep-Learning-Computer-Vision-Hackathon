{
 "cells": [
  {
   "cell_type": "code",
   "execution_count": 1,
   "metadata": {
    "colab": {
     "base_uri": "https://localhost:8080/",
     "height": 35
    },
    "colab_type": "code",
    "id": "AROZMaOgoIPE",
    "outputId": "dbff0d59-6fb3-4386-e15e-0c525e8720f0"
   },
   "outputs": [
    {
     "name": "stdout",
     "output_type": "stream",
     "text": [
      "Drive already mounted at /content/gdrive; to attempt to forcibly remount, call drive.mount(\"/content/gdrive\", force_remount=True).\n"
     ]
    }
   ],
   "source": [
    "from google.colab import drive\n",
    "drive.mount('/content/gdrive')"
   ]
  },
  {
   "cell_type": "code",
   "execution_count": 2,
   "metadata": {
    "colab": {
     "base_uri": "https://localhost:8080/",
     "height": 35
    },
    "colab_type": "code",
    "id": "kqqqzhTOG0G5",
    "outputId": "4e7eaa73-ba7f-4b47-cc08-9a06f2621426"
   },
   "outputs": [
    {
     "name": "stdout",
     "output_type": "stream",
     "text": [
      "/content/gdrive/My Drive/Game of Deep Learning/images\n"
     ]
    }
   ],
   "source": [
    "cd /content/gdrive/My\\ Drive/Game\\ of\\ Deep\\ Learning/images/"
   ]
  },
  {
   "cell_type": "code",
   "execution_count": 3,
   "metadata": {
    "colab": {
     "base_uri": "https://localhost:8080/",
     "height": 35
    },
    "colab_type": "code",
    "id": "g4Mwe6YK4kMH",
    "outputId": "7379c14a-09ac-4b78-ca36-c89438cce9eb"
   },
   "outputs": [
    {
     "name": "stdout",
     "output_type": "stream",
     "text": [
      "8932\n"
     ]
    }
   ],
   "source": [
    "!find . -type f | wc -l"
   ]
  },
  {
   "cell_type": "code",
   "execution_count": 4,
   "metadata": {
    "colab": {
     "base_uri": "https://localhost:8080/",
     "height": 35
    },
    "colab_type": "code",
    "id": "QyLgGr4VoOY_",
    "outputId": "85ac48f0-aeaa-4d88-f782-b45ecc6cf1a5"
   },
   "outputs": [
    {
     "name": "stdout",
     "output_type": "stream",
     "text": [
      "/content/gdrive/My Drive/Game of Deep Learning\n"
     ]
    }
   ],
   "source": [
    "cd /content/gdrive/My\\ Drive/Game\\ of\\ Deep\\ Learning/"
   ]
  },
  {
   "cell_type": "code",
   "execution_count": 0,
   "metadata": {
    "colab": {},
    "colab_type": "code",
    "id": "_9LrdJs0pZZ7"
   },
   "outputs": [],
   "source": [
    "import pandas as pd\n",
    "import numpy as np\n",
    "import seaborn as sns\n",
    "import matplotlib.pyplot as plt\n",
    "from PIL import Image\n",
    "import tqdm"
   ]
  },
  {
   "cell_type": "code",
   "execution_count": 0,
   "metadata": {
    "colab": {},
    "colab_type": "code",
    "id": "bXWQZHcDrRxy"
   },
   "outputs": [],
   "source": [
    "train = pd.read_csv('train.csv')\n",
    "test = pd.read_csv('test_ApKoW4T.csv')"
   ]
  },
  {
   "cell_type": "code",
   "execution_count": 0,
   "metadata": {
    "colab": {},
    "colab_type": "code",
    "id": "u8Q4zRSQhtx4"
   },
   "outputs": [],
   "source": [
    "PATH = \"./images/\""
   ]
  },
  {
   "cell_type": "code",
   "execution_count": 8,
   "metadata": {
    "colab": {
     "base_uri": "https://localhost:8080/",
     "height": 194
    },
    "colab_type": "code",
    "id": "Njd8yRVU4rtd",
    "outputId": "8e91431b-076a-42a9-e204-0bd097570765"
   },
   "outputs": [
    {
     "data": {
      "text/html": [
       "<div>\n",
       "<style scoped>\n",
       "    .dataframe tbody tr th:only-of-type {\n",
       "        vertical-align: middle;\n",
       "    }\n",
       "\n",
       "    .dataframe tbody tr th {\n",
       "        vertical-align: top;\n",
       "    }\n",
       "\n",
       "    .dataframe thead th {\n",
       "        text-align: right;\n",
       "    }\n",
       "</style>\n",
       "<table border=\"1\" class=\"dataframe\">\n",
       "  <thead>\n",
       "    <tr style=\"text-align: right;\">\n",
       "      <th></th>\n",
       "      <th>image</th>\n",
       "      <th>category</th>\n",
       "    </tr>\n",
       "  </thead>\n",
       "  <tbody>\n",
       "    <tr>\n",
       "      <th>0</th>\n",
       "      <td>2823080.jpg</td>\n",
       "      <td>1</td>\n",
       "    </tr>\n",
       "    <tr>\n",
       "      <th>1</th>\n",
       "      <td>2870024.jpg</td>\n",
       "      <td>1</td>\n",
       "    </tr>\n",
       "    <tr>\n",
       "      <th>2</th>\n",
       "      <td>2662125.jpg</td>\n",
       "      <td>2</td>\n",
       "    </tr>\n",
       "    <tr>\n",
       "      <th>3</th>\n",
       "      <td>2900420.jpg</td>\n",
       "      <td>3</td>\n",
       "    </tr>\n",
       "    <tr>\n",
       "      <th>4</th>\n",
       "      <td>2804883.jpg</td>\n",
       "      <td>2</td>\n",
       "    </tr>\n",
       "  </tbody>\n",
       "</table>\n",
       "</div>"
      ],
      "text/plain": [
       "         image  category\n",
       "0  2823080.jpg         1\n",
       "1  2870024.jpg         1\n",
       "2  2662125.jpg         2\n",
       "3  2900420.jpg         3\n",
       "4  2804883.jpg         2"
      ]
     },
     "execution_count": 8,
     "metadata": {
      "tags": []
     },
     "output_type": "execute_result"
    }
   ],
   "source": [
    "train.head()"
   ]
  },
  {
   "cell_type": "code",
   "execution_count": 9,
   "metadata": {
    "colab": {
     "base_uri": "https://localhost:8080/",
     "height": 194
    },
    "colab_type": "code",
    "id": "CYygK9Aq8dr_",
    "outputId": "1c032540-342c-4dbb-d188-d36b5b11e5d1"
   },
   "outputs": [
    {
     "data": {
      "text/html": [
       "<div>\n",
       "<style scoped>\n",
       "    .dataframe tbody tr th:only-of-type {\n",
       "        vertical-align: middle;\n",
       "    }\n",
       "\n",
       "    .dataframe tbody tr th {\n",
       "        vertical-align: top;\n",
       "    }\n",
       "\n",
       "    .dataframe thead th {\n",
       "        text-align: right;\n",
       "    }\n",
       "</style>\n",
       "<table border=\"1\" class=\"dataframe\">\n",
       "  <thead>\n",
       "    <tr style=\"text-align: right;\">\n",
       "      <th></th>\n",
       "      <th>image</th>\n",
       "    </tr>\n",
       "  </thead>\n",
       "  <tbody>\n",
       "    <tr>\n",
       "      <th>0</th>\n",
       "      <td>1007700.jpg</td>\n",
       "    </tr>\n",
       "    <tr>\n",
       "      <th>1</th>\n",
       "      <td>1011369.jpg</td>\n",
       "    </tr>\n",
       "    <tr>\n",
       "      <th>2</th>\n",
       "      <td>1051155.jpg</td>\n",
       "    </tr>\n",
       "    <tr>\n",
       "      <th>3</th>\n",
       "      <td>1062001.jpg</td>\n",
       "    </tr>\n",
       "    <tr>\n",
       "      <th>4</th>\n",
       "      <td>1069397.jpg</td>\n",
       "    </tr>\n",
       "  </tbody>\n",
       "</table>\n",
       "</div>"
      ],
      "text/plain": [
       "         image\n",
       "0  1007700.jpg\n",
       "1  1011369.jpg\n",
       "2  1051155.jpg\n",
       "3  1062001.jpg\n",
       "4  1069397.jpg"
      ]
     },
     "execution_count": 9,
     "metadata": {
      "tags": []
     },
     "output_type": "execute_result"
    }
   ],
   "source": [
    "test.head()"
   ]
  },
  {
   "cell_type": "code",
   "execution_count": 10,
   "metadata": {
    "colab": {
     "base_uri": "https://localhost:8080/",
     "height": 283
    },
    "colab_type": "code",
    "id": "qt884vqV4uhi",
    "outputId": "320043d7-370f-4a00-8aff-2e5b3185d862"
   },
   "outputs": [
    {
     "data": {
      "image/png": "[encoded data removed]",
      "text/plain": [
       "<Figure size 432x288 with 1 Axes>"
      ]
     },
     "metadata": {
      "tags": []
     },
     "output_type": "display_data"
    }
   ],
   "source": [
    "sns.countplot(x=\"category\", data=train),\n",
    "plt.show()"
   ]
  },
  {
   "cell_type": "code",
   "execution_count": 11,
   "metadata": {
    "colab": {
     "base_uri": "https://localhost:8080/",
     "height": 124
    },
    "colab_type": "code",
    "id": "8st5538w43ca",
    "outputId": "feb43410-3276-48a1-ee08-6277576457cb"
   },
   "outputs": [
    {
     "data": {
      "text/plain": [
       "1    2120\n",
       "5    1217\n",
       "2    1167\n",
       "3     916\n",
       "4     832\n",
       "Name: category, dtype: int64"
      ]
     },
     "execution_count": 11,
     "metadata": {
      "tags": []
     },
     "output_type": "execute_result"
    }
   ],
   "source": [
    "train['category'].value_counts()"
   ]
  },
  {
   "cell_type": "code",
   "execution_count": 12,
   "metadata": {
    "colab": {
     "base_uri": "https://localhost:8080/",
     "height": 70
    },
    "colab_type": "code",
    "id": "X6dZm2x_6_R6",
    "outputId": "3c7fa7d5-00d4-45d5-cea2-a0f8dfa36d0a"
   },
   "outputs": [
    {
     "data": {
      "text/plain": [
       "image       0\n",
       "category    0\n",
       "dtype: int64"
      ]
     },
     "execution_count": 12,
     "metadata": {
      "tags": []
     },
     "output_type": "execute_result"
    }
   ],
   "source": [
    "train.isnull().sum()"
   ]
  },
  {
   "cell_type": "code",
   "execution_count": 13,
   "metadata": {
    "colab": {
     "base_uri": "https://localhost:8080/",
     "height": 52
    },
    "colab_type": "code",
    "id": "ULYcn00ROUkz",
    "outputId": "d5ad2159-b979-431d-eb1b-8a8f5e03cfa6"
   },
   "outputs": [
    {
     "data": {
      "text/plain": [
       "image    0\n",
       "dtype: int64"
      ]
     },
     "execution_count": 13,
     "metadata": {
      "tags": []
     },
     "output_type": "execute_result"
    }
   ],
   "source": [
    "test.isnull().sum()"
   ]
  },
  {
   "cell_type": "code",
   "execution_count": 0,
   "metadata": {
    "colab": {},
    "colab_type": "code",
    "id": "gY79kehrmWfI"
   },
   "outputs": [],
   "source": [
    "temp = []\n",
    "for i in range (len(train['category'])):\n",
    "  local = str(train['category'][i])\n",
    "  temp.append(local)\n",
    "train.insert(2, \"String_category\", temp)"
   ]
  },
  {
   "cell_type": "code",
   "execution_count": 15,
   "metadata": {
    "colab": {
     "base_uri": "https://localhost:8080/",
     "height": 35
    },
    "colab_type": "code",
    "id": "Rv8JXlHt8s53",
    "outputId": "47872e26-721f-43d2-dcde-c0080bcfa812"
   },
   "outputs": [
    {
     "name": "stderr",
     "output_type": "stream",
     "text": [
      "Using TensorFlow backend.\n"
     ]
    }
   ],
   "source": [
    "from keras_preprocessing.image import ImageDataGenerator\n",
    "from keras.layers import Dense, Activation, Flatten, Dropout, BatchNormalization\n",
    "from keras.layers import Conv2D, MaxPooling2D\n",
    "from keras.optimizers import Adam"
   ]
  },
  {
   "cell_type": "code",
   "execution_count": 0,
   "metadata": {
    "colab": {},
    "colab_type": "code",
    "id": "nXYVsbxLBXeU"
   },
   "outputs": [],
   "source": [
    "datagen=ImageDataGenerator(rescale=1./255.)\n",
    "test_datagen=ImageDataGenerator(rescale=1./255.)"
   ]
  },
  {
   "cell_type": "code",
   "execution_count": 17,
   "metadata": {
    "colab": {
     "base_uri": "https://localhost:8080/",
     "height": 276
    },
    "colab_type": "code",
    "id": "X-pYd4LtaUll",
    "outputId": "c24a1b18-f9f0-4d30-9634-dc99212d48cb"
   },
   "outputs": [
    {
     "name": "stdout",
     "output_type": "stream",
     "text": [
      "A sample image from training set\n",
      "\n"
     ]
    },
    {
     "data": {
      "image/jpeg": "[encoded data removed]",
      "text/plain": [
       "<IPython.core.display.Image object>"
      ]
     },
     "execution_count": 17,
     "metadata": {
      "image/jpeg": {
       "height": 224,
       "width": 224
      },
      "tags": []
     },
     "output_type": "execute_result"
    }
   ],
   "source": [
    "from IPython.display import Image\n",
    "\n",
    "print(\"A sample image from training set\\n\")\n",
    "Image(filename = PATH + train[\"image\"][0], width=224, height=224)"
   ]
  },
  {
   "cell_type": "code",
   "execution_count": 18,
   "metadata": {
    "colab": {
     "base_uri": "https://localhost:8080/",
     "height": 276
    },
    "colab_type": "code",
    "id": "7C5qOSx8dLo7",
    "outputId": "05a87359-bf10-4854-a1b9-2cec692a4207"
   },
   "outputs": [
    {
     "name": "stdout",
     "output_type": "stream",
     "text": [
      "A sample image from validation set\n",
      "\n"
     ]
    },
    {
     "data": {
      "image/jpeg": "[encoded data removed]",
      "text/plain": [
       "<IPython.core.display.Image object>"
      ]
     },
     "execution_count": 18,
     "metadata": {
      "image/jpeg": {
       "height": 224,
       "width": 224
      },
      "tags": []
     },
     "output_type": "execute_result"
    }
   ],
   "source": [
    "print(\"A sample image from validation set\\n\")\n",
    "Image(filename = PATH + train[\"image\"][5006], width=224, height=224)"
   ]
  },
  {
   "cell_type": "code",
   "execution_count": 19,
   "metadata": {
    "colab": {
     "base_uri": "https://localhost:8080/",
     "height": 276
    },
    "colab_type": "code",
    "id": "ssh-aI4HdObq",
    "outputId": "a154b7b7-d7c4-484b-8cf5-051e94ce504a"
   },
   "outputs": [
    {
     "name": "stdout",
     "output_type": "stream",
     "text": [
      "A sample image from test set\n",
      "\n"
     ]
    },
    {
     "data": {
      "image/jpeg": "[encoded data removed]",
      "text/plain": [
       "<IPython.core.display.Image object>"
      ]
     },
     "execution_count": 19,
     "metadata": {
      "image/jpeg": {
       "height": 224,
       "width": 224
      },
      "tags": []
     },
     "output_type": "execute_result"
    }
   ],
   "source": [
    "print(\"A sample image from test set\\n\")\n",
    "Image(filename = PATH + test[\"image\"][2000], width=224, height=224)"
   ]
  },
  {
   "cell_type": "code",
   "execution_count": 0,
   "metadata": {
    "colab": {},
    "colab_type": "code",
    "id": "VNIfv7p1u3Zg"
   },
   "outputs": [],
   "source": [
    "batch_size = 16"
   ]
  },
  {
   "cell_type": "code",
   "execution_count": 21,
   "metadata": {
    "colab": {
     "base_uri": "https://localhost:8080/",
     "height": 70
    },
    "colab_type": "code",
    "id": "7bhOZVP8CFVV",
    "outputId": "70cb6ccb-e941-4a6d-ac78-71f3c22bdc2d"
   },
   "outputs": [
    {
     "name": "stdout",
     "output_type": "stream",
     "text": [
      "Found 5000 validated image filenames belonging to 5 classes.\n",
      "Found 1252 validated image filenames belonging to 5 classes.\n",
      "Found 2680 validated image filenames.\n"
     ]
    }
   ],
   "source": [
    "train_generator = datagen.flow_from_dataframe(dataframe=train[:5000], directory=\"./images/\",\n",
    "                                            x_col=\"image\", y_col=\"String_category\", batch_size=batch_size, shuffle=True, class_mode=\"categorical\", target_size=(224,224))\n",
    "valid_generator = datagen.flow_from_dataframe(dataframe=train[5000:], directory=\"./images/\",\n",
    "                                            x_col=\"image\", y_col=\"String_category\", batch_size=batch_size, shuffle=True, class_mode=\"categorical\", target_size=(224,224))\n",
    "test_generator  = datagen.flow_from_dataframe(dataframe=test, directory=\"./images/\",\n",
    "                                            x_col=\"image\", batch_size=1, shuffle=False, class_mode=None, target_size=(224,224))"
   ]
  },
  {
   "cell_type": "code",
   "execution_count": 22,
   "metadata": {
    "colab": {
     "base_uri": "https://localhost:8080/",
     "height": 90
    },
    "colab_type": "code",
    "id": "bzf7QvVkZ9Oz",
    "outputId": "c2a3731f-047d-43de-d0fd-66234885b588"
   },
   "outputs": [
    {
     "name": "stdout",
     "output_type": "stream",
     "text": [
      "WARNING:tensorflow:From /usr/local/lib/python3.6/dist-packages/tensorflow/python/framework/op_def_library.py:263: colocate_with (from tensorflow.python.framework.ops) is deprecated and will be removed in a future version.\n",
      "Instructions for updating:\n",
      "Colocations handled automatically by placer.\n"
     ]
    }
   ],
   "source": [
    "from keras.engine.input_layer import Input\n",
    "from keras.applications.vgg16 import VGG16, preprocess_input, decode_predictions\n",
    "\n",
    "base_model = VGG16(weights=\"imagenet\", include_top=False, input_tensor=Input(shape=(224, 224, 3)))"
   ]
  },
  {
   "cell_type": "code",
   "execution_count": 23,
   "metadata": {
    "colab": {
     "base_uri": "https://localhost:8080/",
     "height": 817
    },
    "colab_type": "code",
    "id": "ctwkKkXso33v",
    "outputId": "764618c5-9da9-42a5-e6ee-ef8166853316"
   },
   "outputs": [
    {
     "name": "stdout",
     "output_type": "stream",
     "text": [
      "_________________________________________________________________\n",
      "Layer (type)                 Output Shape              Param #   \n",
      "=================================================================\n",
      "input_1 (InputLayer)         (None, 224, 224, 3)       0         \n",
      "_________________________________________________________________\n",
      "block1_conv1 (Conv2D)        (None, 224, 224, 64)      1792      \n",
      "_________________________________________________________________\n",
      "block1_conv2 (Conv2D)        (None, 224, 224, 64)      36928     \n",
      "_________________________________________________________________\n",
      "block1_pool (MaxPooling2D)   (None, 112, 112, 64)      0         \n",
      "_________________________________________________________________\n",
      "block2_conv1 (Conv2D)        (None, 112, 112, 128)     73856     \n",
      "_________________________________________________________________\n",
      "block2_conv2 (Conv2D)        (None, 112, 112, 128)     147584    \n",
      "_________________________________________________________________\n",
      "block2_pool (MaxPooling2D)   (None, 56, 56, 128)       0         \n",
      "_________________________________________________________________\n",
      "block3_conv1 (Conv2D)        (None, 56, 56, 256)       295168    \n",
      "_________________________________________________________________\n",
      "block3_conv2 (Conv2D)        (None, 56, 56, 256)       590080    \n",
      "_________________________________________________________________\n",
      "block3_conv3 (Conv2D)        (None, 56, 56, 256)       590080    \n",
      "_________________________________________________________________\n",
      "block3_pool (MaxPooling2D)   (None, 28, 28, 256)       0         \n",
      "_________________________________________________________________\n",
      "block4_conv1 (Conv2D)        (None, 28, 28, 512)       1180160   \n",
      "_________________________________________________________________\n",
      "block4_conv2 (Conv2D)        (None, 28, 28, 512)       2359808   \n",
      "_________________________________________________________________\n",
      "block4_conv3 (Conv2D)        (None, 28, 28, 512)       2359808   \n",
      "_________________________________________________________________\n",
      "block4_pool (MaxPooling2D)   (None, 14, 14, 512)       0         \n",
      "_________________________________________________________________\n",
      "block5_conv1 (Conv2D)        (None, 14, 14, 512)       2359808   \n",
      "_________________________________________________________________\n",
      "block5_conv2 (Conv2D)        (None, 14, 14, 512)       2359808   \n",
      "_________________________________________________________________\n",
      "block5_conv3 (Conv2D)        (None, 14, 14, 512)       2359808   \n",
      "_________________________________________________________________\n",
      "block5_pool (MaxPooling2D)   (None, 7, 7, 512)         0         \n",
      "=================================================================\n",
      "Total params: 14,714,688\n",
      "Trainable params: 14,714,688\n",
      "Non-trainable params: 0\n",
      "_________________________________________________________________\n"
     ]
    }
   ],
   "source": [
    "base_model.summary()"
   ]
  },
  {
   "cell_type": "code",
   "execution_count": 0,
   "metadata": {
    "colab": {},
    "colab_type": "code",
    "id": "mWk8CvBypMuf"
   },
   "outputs": [],
   "source": [
    "from keras.applications.vgg16 import VGG16\n",
    "from keras.utils.vis_utils import plot_model\n",
    "\n",
    "plot_model(base_model, to_file='vgg16.png')"
   ]
  },
  {
   "cell_type": "code",
   "execution_count": 25,
   "metadata": {
    "colab": {
     "base_uri": "https://localhost:8080/",
     "height": 1829
    },
    "colab_type": "code",
    "id": "SOsgNvmIpY3O",
    "outputId": "477942e7-2d96-4d4f-ab2e-afcb97b5f569"
   },
   "outputs": [
    {
     "data": {
      "image/png": "[encoded data removed]",
      "text/plain": [
       "<IPython.core.display.Image object>"
      ]
     },
     "execution_count": 25,
     "metadata": {
      "tags": []
     },
     "output_type": "execute_result"
    }
   ],
   "source": [
    "Image(filename = \"vgg16.png\")"
   ]
  },
  {
   "cell_type": "code",
   "execution_count": 26,
   "metadata": {
    "colab": {
     "base_uri": "https://localhost:8080/",
     "height": 90
    },
    "colab_type": "code",
    "id": "mLPv7jj7eDRa",
    "outputId": "acf18a78-9dff-4cab-b1a9-fbf46691d035"
   },
   "outputs": [
    {
     "name": "stdout",
     "output_type": "stream",
     "text": [
      "WARNING:tensorflow:From /usr/local/lib/python3.6/dist-packages/keras/backend/tensorflow_backend.py:3445: calling dropout (from tensorflow.python.ops.nn_ops) with keep_prob is deprecated and will be removed in a future version.\n",
      "Instructions for updating:\n",
      "Please use `rate` instead of `keep_prob`. Rate should be set to `rate = 1 - keep_prob`.\n"
     ]
    }
   ],
   "source": [
    "from keras.layers import AveragePooling2D, GlobalAveragePooling2D, multiply, Lambda\n",
    "from keras.models import Model\n",
    "\n",
    "head_model = base_model.output\n",
    "head_model = Flatten(name=\"flatten\")(head_model)\n",
    "head_model = Dense(512, activation=\"relu\")(head_model)\n",
    "head_model = Dropout(0.5)(head_model)\n",
    "head_model = Dense(32, activation=\"relu\")(head_model)\n",
    "head_model = Dropout(0.5)(head_model)\n",
    "head_model = Dense(5, activation=\"softmax\")(head_model)\n",
    "\n",
    "model = Model(inputs=base_model.input, outputs=head_model)"
   ]
  },
  {
   "cell_type": "code",
   "execution_count": 0,
   "metadata": {
    "colab": {},
    "colab_type": "code",
    "id": "_vgRPUmOUxP9"
   },
   "outputs": [],
   "source": [
    "for layer in base_model.layers:\n",
    "\tlayer.trainable = False"
   ]
  },
  {
   "cell_type": "code",
   "execution_count": 28,
   "metadata": {
    "colab": {
     "base_uri": "https://localhost:8080/",
     "height": 1030
    },
    "colab_type": "code",
    "id": "j03DUyk4rSPp",
    "outputId": "462ea24f-9bac-40d6-870d-7a4bd2956b35"
   },
   "outputs": [
    {
     "name": "stdout",
     "output_type": "stream",
     "text": [
      "_________________________________________________________________\n",
      "Layer (type)                 Output Shape              Param #   \n",
      "=================================================================\n",
      "input_1 (InputLayer)         (None, 224, 224, 3)       0         \n",
      "_________________________________________________________________\n",
      "block1_conv1 (Conv2D)        (None, 224, 224, 64)      1792      \n",
      "_________________________________________________________________\n",
      "block1_conv2 (Conv2D)        (None, 224, 224, 64)      36928     \n",
      "_________________________________________________________________\n",
      "block1_pool (MaxPooling2D)   (None, 112, 112, 64)      0         \n",
      "_________________________________________________________________\n",
      "block2_conv1 (Conv2D)        (None, 112, 112, 128)     73856     \n",
      "_________________________________________________________________\n",
      "block2_conv2 (Conv2D)        (None, 112, 112, 128)     147584    \n",
      "_________________________________________________________________\n",
      "block2_pool (MaxPooling2D)   (None, 56, 56, 128)       0         \n",
      "_________________________________________________________________\n",
      "block3_conv1 (Conv2D)        (None, 56, 56, 256)       295168    \n",
      "_________________________________________________________________\n",
      "block3_conv2 (Conv2D)        (None, 56, 56, 256)       590080    \n",
      "_________________________________________________________________\n",
      "block3_conv3 (Conv2D)        (None, 56, 56, 256)       590080    \n",
      "_________________________________________________________________\n",
      "block3_pool (MaxPooling2D)   (None, 28, 28, 256)       0         \n",
      "_________________________________________________________________\n",
      "block4_conv1 (Conv2D)        (None, 28, 28, 512)       1180160   \n",
      "_________________________________________________________________\n",
      "block4_conv2 (Conv2D)        (None, 28, 28, 512)       2359808   \n",
      "_________________________________________________________________\n",
      "block4_conv3 (Conv2D)        (None, 28, 28, 512)       2359808   \n",
      "_________________________________________________________________\n",
      "block4_pool (MaxPooling2D)   (None, 14, 14, 512)       0         \n",
      "_________________________________________________________________\n",
      "block5_conv1 (Conv2D)        (None, 14, 14, 512)       2359808   \n",
      "_________________________________________________________________\n",
      "block5_conv2 (Conv2D)        (None, 14, 14, 512)       2359808   \n",
      "_________________________________________________________________\n",
      "block5_conv3 (Conv2D)        (None, 14, 14, 512)       2359808   \n",
      "_________________________________________________________________\n",
      "block5_pool (MaxPooling2D)   (None, 7, 7, 512)         0         \n",
      "_________________________________________________________________\n",
      "flatten (Flatten)            (None, 25088)             0         \n",
      "_________________________________________________________________\n",
      "dense_1 (Dense)              (None, 512)               12845568  \n",
      "_________________________________________________________________\n",
      "dropout_1 (Dropout)          (None, 512)               0         \n",
      "_________________________________________________________________\n",
      "dense_2 (Dense)              (None, 32)                16416     \n",
      "_________________________________________________________________\n",
      "dropout_2 (Dropout)          (None, 32)                0         \n",
      "_________________________________________________________________\n",
      "dense_3 (Dense)              (None, 5)                 165       \n",
      "=================================================================\n",
      "Total params: 27,576,837\n",
      "Trainable params: 12,862,149\n",
      "Non-trainable params: 14,714,688\n",
      "_________________________________________________________________\n"
     ]
    }
   ],
   "source": [
    "model.summary()"
   ]
  },
  {
   "cell_type": "code",
   "execution_count": 0,
   "metadata": {
    "colab": {},
    "colab_type": "code",
    "id": "mWLFYz5XVL2B"
   },
   "outputs": [],
   "source": [
    "model.compile(optimizer = Adam(lr = 1e-3, beta_1=0.9, beta_2 = 0.999, epsilon = None, decay = 0.0, amsgrad = True),\n",
    "              loss = 'categorical_crossentropy', metrics = ['accuracy'])"
   ]
  },
  {
   "cell_type": "code",
   "execution_count": 31,
   "metadata": {
    "colab": {
     "base_uri": "https://localhost:8080/",
     "height": 7201
    },
    "colab_type": "code",
    "id": "vc-LbCLKuZt7",
    "outputId": "743de0fd-ecc5-4e5b-9146-2871b718d55f"
   },
   "outputs": [
    {
     "name": "stdout",
     "output_type": "stream",
     "text": [
      "WARNING:tensorflow:From /usr/local/lib/python3.6/dist-packages/tensorflow/python/ops/math_ops.py:3066: to_int32 (from tensorflow.python.ops.math_ops) is deprecated and will be removed in a future version.\n",
      "Instructions for updating:\n",
      "Use tf.cast instead.\n",
      "Epoch 1/100\n",
      "312/312 [==============================] - 39s 125ms/step - loss: 1.8606 - acc: 0.3219 - val_loss: 1.5786 - val_acc: 0.3229\n",
      "\n",
      "Epoch 00001: val_acc improved from -inf to 0.32292, saving model to VGG16(Custom-CNN).hdf5\n",
      "Epoch 2/100\n",
      "312/312 [==============================] - 37s 118ms/step - loss: 1.5624 - acc: 0.3411 - val_loss: 1.4974 - val_acc: 0.3269\n",
      "\n",
      "Epoch 00002: val_acc improved from 0.32292 to 0.32686, saving model to VGG16(Custom-CNN).hdf5\n",
      "Epoch 3/100\n",
      "312/312 [==============================] - 34s 110ms/step - loss: 1.4834 - acc: 0.3510 - val_loss: 1.4207 - val_acc: 0.3333\n",
      "\n",
      "Epoch 00003: val_acc improved from 0.32686 to 0.33333, saving model to VGG16(Custom-CNN).hdf5\n",
      "Epoch 4/100\n",
      "312/312 [==============================] - 35s 111ms/step - loss: 1.4513 - acc: 0.3668 - val_loss: 1.3562 - val_acc: 0.3301\n",
      "\n",
      "Epoch 00004: val_acc did not improve from 0.33333\n",
      "Epoch 5/100\n",
      "312/312 [==============================] - 35s 111ms/step - loss: 1.3695 - acc: 0.4159 - val_loss: 1.1335 - val_acc: 0.5461\n",
      "\n",
      "Epoch 00005: val_acc improved from 0.33333 to 0.54612, saving model to VGG16(Custom-CNN).hdf5\n",
      "Epoch 6/100\n",
      "312/312 [==============================] - 35s 111ms/step - loss: 1.2087 - acc: 0.5098 - val_loss: 0.9360 - val_acc: 0.5704\n",
      "\n",
      "Epoch 00006: val_acc improved from 0.54612 to 0.57039, saving model to VGG16(Custom-CNN).hdf5\n",
      "Epoch 7/100\n",
      "312/312 [==============================] - 35s 111ms/step - loss: 1.0345 - acc: 0.5853 - val_loss: 0.6760 - val_acc: 0.7039\n",
      "\n",
      "Epoch 00007: val_acc improved from 0.57039 to 0.70388, saving model to VGG16(Custom-CNN).hdf5\n",
      "Epoch 8/100\n",
      "312/312 [==============================] - 35s 111ms/step - loss: 0.8569 - acc: 0.6482 - val_loss: 0.6127 - val_acc: 0.7282\n",
      "\n",
      "Epoch 00008: val_acc improved from 0.70388 to 0.72816, saving model to VGG16(Custom-CNN).hdf5\n",
      "Epoch 9/100\n",
      "312/312 [==============================] - 35s 111ms/step - loss: 0.7935 - acc: 0.6763 - val_loss: 0.5574 - val_acc: 0.7411\n",
      "\n",
      "Epoch 00009: val_acc improved from 0.72816 to 0.74110, saving model to VGG16(Custom-CNN).hdf5\n",
      "Epoch 10/100\n",
      "312/312 [==============================] - 35s 111ms/step - loss: 0.7277 - acc: 0.6987 - val_loss: 0.5386 - val_acc: 0.7419\n",
      "\n",
      "Epoch 00010: val_acc improved from 0.74110 to 0.74191, saving model to VGG16(Custom-CNN).hdf5\n",
      "Epoch 11/100\n",
      "312/312 [==============================] - 35s 111ms/step - loss: 0.6589 - acc: 0.7081 - val_loss: 0.5211 - val_acc: 0.7468\n",
      "\n",
      "Epoch 00011: val_acc improved from 0.74191 to 0.74676, saving model to VGG16(Custom-CNN).hdf5\n",
      "Epoch 12/100\n",
      "312/312 [==============================] - 35s 111ms/step - loss: 0.6398 - acc: 0.7147 - val_loss: 0.4821 - val_acc: 0.7573\n",
      "\n",
      "Epoch 00012: val_acc improved from 0.74676 to 0.75728, saving model to VGG16(Custom-CNN).hdf5\n",
      "Epoch 13/100\n",
      "312/312 [==============================] - 35s 111ms/step - loss: 0.5783 - acc: 0.7348 - val_loss: 0.4766 - val_acc: 0.7686\n",
      "\n",
      "Epoch 00013: val_acc improved from 0.75728 to 0.76861, saving model to VGG16(Custom-CNN).hdf5\n",
      "Epoch 14/100\n",
      "312/312 [==============================] - 35s 111ms/step - loss: 0.5765 - acc: 0.7348 - val_loss: 0.5202 - val_acc: 0.7354\n",
      "\n",
      "Epoch 00014: val_acc did not improve from 0.76861\n",
      "Epoch 15/100\n",
      "312/312 [==============================] - 35s 111ms/step - loss: 0.5560 - acc: 0.7412 - val_loss: 0.4825 - val_acc: 0.7557\n",
      "\n",
      "Epoch 00015: val_acc did not improve from 0.76861\n",
      "Epoch 16/100\n",
      "312/312 [==============================] - 35s 111ms/step - loss: 0.5289 - acc: 0.7628 - val_loss: 0.4749 - val_acc: 0.8042\n",
      "\n",
      "Epoch 00016: val_acc improved from 0.76861 to 0.80421, saving model to VGG16(Custom-CNN).hdf5\n",
      "Epoch 17/100\n",
      "312/312 [==============================] - 35s 111ms/step - loss: 0.5310 - acc: 0.7576 - val_loss: 0.4692 - val_acc: 0.7888\n",
      "\n",
      "Epoch 00017: val_acc did not improve from 0.80421\n",
      "Epoch 18/100\n",
      "312/312 [==============================] - 35s 111ms/step - loss: 0.5063 - acc: 0.7780 - val_loss: 0.4745 - val_acc: 0.7775\n",
      "\n",
      "Epoch 00018: val_acc did not improve from 0.80421\n",
      "Epoch 19/100\n",
      "312/312 [==============================] - 35s 111ms/step - loss: 0.4684 - acc: 0.7977 - val_loss: 0.4223 - val_acc: 0.8285\n",
      "\n",
      "Epoch 00019: val_acc improved from 0.80421 to 0.82848, saving model to VGG16(Custom-CNN).hdf5\n",
      "Epoch 20/100\n",
      "312/312 [==============================] - 35s 111ms/step - loss: 0.4388 - acc: 0.7961 - val_loss: 0.4924 - val_acc: 0.8131\n",
      "\n",
      "Epoch 00020: val_acc did not improve from 0.82848\n",
      "Epoch 21/100\n",
      "312/312 [==============================] - 35s 111ms/step - loss: 0.4567 - acc: 0.8085 - val_loss: 0.4350 - val_acc: 0.8236\n",
      "\n",
      "Epoch 00021: val_acc did not improve from 0.82848\n",
      "Epoch 22/100\n",
      "312/312 [==============================] - 35s 111ms/step - loss: 0.4893 - acc: 0.7887 - val_loss: 0.4321 - val_acc: 0.8252\n",
      "\n",
      "Epoch 00022: val_acc did not improve from 0.82848\n",
      "Epoch 23/100\n",
      "312/312 [==============================] - 35s 111ms/step - loss: 0.4209 - acc: 0.8199 - val_loss: 0.4400 - val_acc: 0.8123\n",
      "\n",
      "Epoch 00023: val_acc did not improve from 0.82848\n",
      "Epoch 24/100\n",
      "312/312 [==============================] - 35s 111ms/step - loss: 0.4067 - acc: 0.8311 - val_loss: 0.4614 - val_acc: 0.8252\n",
      "\n",
      "Epoch 00024: val_acc did not improve from 0.82848\n",
      "Epoch 25/100\n",
      "312/312 [==============================] - 35s 111ms/step - loss: 0.4043 - acc: 0.8257 - val_loss: 0.4502 - val_acc: 0.8528\n",
      "\n",
      "Epoch 00025: val_acc improved from 0.82848 to 0.85275, saving model to VGG16(Custom-CNN).hdf5\n",
      "Epoch 26/100\n",
      "312/312 [==============================] - 35s 111ms/step - loss: 0.3876 - acc: 0.8409 - val_loss: 0.4335 - val_acc: 0.8495\n",
      "\n",
      "Epoch 00026: val_acc did not improve from 0.85275\n",
      "Epoch 27/100\n",
      "312/312 [==============================] - 35s 111ms/step - loss: 0.4001 - acc: 0.8305 - val_loss: 0.4423 - val_acc: 0.8625\n",
      "\n",
      "Epoch 00027: val_acc improved from 0.85275 to 0.86246, saving model to VGG16(Custom-CNN).hdf5\n",
      "Epoch 28/100\n",
      "312/312 [==============================] - 35s 111ms/step - loss: 0.3840 - acc: 0.8345 - val_loss: 0.4665 - val_acc: 0.8325\n",
      "\n",
      "Epoch 00028: val_acc did not improve from 0.86246\n",
      "Epoch 29/100\n",
      "312/312 [==============================] - 35s 111ms/step - loss: 0.3584 - acc: 0.8454 - val_loss: 0.5721 - val_acc: 0.8341\n",
      "\n",
      "Epoch 00029: val_acc did not improve from 0.86246\n",
      "Epoch 30/100\n",
      "312/312 [==============================] - 35s 111ms/step - loss: 0.3918 - acc: 0.8438 - val_loss: 0.4498 - val_acc: 0.8487\n",
      "\n",
      "Epoch 00030: val_acc did not improve from 0.86246\n",
      "Epoch 31/100\n",
      "312/312 [==============================] - 35s 111ms/step - loss: 0.3521 - acc: 0.8516 - val_loss: 0.3971 - val_acc: 0.8544\n",
      "\n",
      "Epoch 00031: val_acc did not improve from 0.86246\n",
      "Epoch 32/100\n",
      "312/312 [==============================] - 35s 111ms/step - loss: 0.3389 - acc: 0.8642 - val_loss: 0.4889 - val_acc: 0.8479\n",
      "\n",
      "Epoch 00032: val_acc did not improve from 0.86246\n",
      "Epoch 33/100\n",
      "312/312 [==============================] - 35s 111ms/step - loss: 0.3459 - acc: 0.8616 - val_loss: 0.4720 - val_acc: 0.8390\n",
      "\n",
      "Epoch 00033: val_acc did not improve from 0.86246\n",
      "Epoch 34/100\n",
      "312/312 [==============================] - 35s 111ms/step - loss: 0.3113 - acc: 0.8698 - val_loss: 0.4181 - val_acc: 0.8430\n",
      "\n",
      "Epoch 00034: val_acc did not improve from 0.86246\n",
      "Epoch 35/100\n",
      "312/312 [==============================] - 35s 111ms/step - loss: 0.3366 - acc: 0.8678 - val_loss: 0.4733 - val_acc: 0.8503\n",
      "\n",
      "Epoch 00035: val_acc did not improve from 0.86246\n",
      "Epoch 36/100\n",
      "312/312 [==============================] - 35s 111ms/step - loss: 0.3155 - acc: 0.8692 - val_loss: 0.4441 - val_acc: 0.8495\n",
      "\n",
      "Epoch 00036: val_acc did not improve from 0.86246\n",
      "Epoch 37/100\n",
      "312/312 [==============================] - 35s 111ms/step - loss: 0.3244 - acc: 0.8728 - val_loss: 0.4601 - val_acc: 0.8544\n",
      "\n",
      "Epoch 00037: val_acc did not improve from 0.86246\n",
      "Epoch 38/100\n",
      "312/312 [==============================] - 35s 111ms/step - loss: 0.3134 - acc: 0.8728 - val_loss: 0.4688 - val_acc: 0.8366\n",
      "\n",
      "Epoch 00038: val_acc did not improve from 0.86246\n",
      "Epoch 39/100\n",
      "312/312 [==============================] - 34s 111ms/step - loss: 0.3260 - acc: 0.8674 - val_loss: 0.5993 - val_acc: 0.8430\n",
      "\n",
      "Epoch 00039: val_acc did not improve from 0.86246\n",
      "Epoch 40/100\n",
      "312/312 [==============================] - 35s 111ms/step - loss: 0.2996 - acc: 0.8810 - val_loss: 0.4212 - val_acc: 0.8633\n",
      "\n",
      "Epoch 00040: val_acc improved from 0.86246 to 0.86327, saving model to VGG16(Custom-CNN).hdf5\n",
      "Epoch 41/100\n",
      "312/312 [==============================] - 35s 111ms/step - loss: 0.2733 - acc: 0.8960 - val_loss: 0.5275 - val_acc: 0.8673\n",
      "\n",
      "Epoch 00041: val_acc improved from 0.86327 to 0.86731, saving model to VGG16(Custom-CNN).hdf5\n",
      "Epoch 42/100\n",
      "312/312 [==============================] - 35s 111ms/step - loss: 0.2700 - acc: 0.8956 - val_loss: 0.5228 - val_acc: 0.8519\n",
      "\n",
      "Epoch 00042: val_acc did not improve from 0.86731\n",
      "Epoch 43/100\n",
      "312/312 [==============================] - 35s 111ms/step - loss: 0.2739 - acc: 0.8938 - val_loss: 0.4773 - val_acc: 0.8600\n",
      "\n",
      "Epoch 00043: val_acc did not improve from 0.86731\n",
      "Epoch 44/100\n",
      "312/312 [==============================] - 35s 111ms/step - loss: 0.3109 - acc: 0.8860 - val_loss: 0.4848 - val_acc: 0.8576\n",
      "\n",
      "Epoch 00044: val_acc did not improve from 0.86731\n",
      "Epoch 45/100\n",
      "312/312 [==============================] - 34s 111ms/step - loss: 0.2926 - acc: 0.8862 - val_loss: 0.5042 - val_acc: 0.8455\n",
      "\n",
      "Epoch 00045: val_acc did not improve from 0.86731\n",
      "Epoch 46/100\n",
      "312/312 [==============================] - 35s 111ms/step - loss: 0.2729 - acc: 0.8976 - val_loss: 0.4818 - val_acc: 0.8706\n",
      "\n",
      "Epoch 00046: val_acc improved from 0.86731 to 0.87055, saving model to VGG16(Custom-CNN).hdf5\n",
      "Epoch 47/100\n",
      "312/312 [==============================] - 35s 111ms/step - loss: 0.2614 - acc: 0.9032 - val_loss: 0.4996 - val_acc: 0.8633\n",
      "\n",
      "Epoch 00047: val_acc did not improve from 0.87055\n",
      "Epoch 48/100\n",
      "312/312 [==============================] - 35s 111ms/step - loss: 0.2488 - acc: 0.9085 - val_loss: 0.4437 - val_acc: 0.8657\n",
      "\n",
      "Epoch 00048: val_acc did not improve from 0.87055\n",
      "Epoch 49/100\n",
      "312/312 [==============================] - 35s 111ms/step - loss: 0.2505 - acc: 0.9093 - val_loss: 0.4731 - val_acc: 0.8390\n",
      "\n",
      "Epoch 00049: val_acc did not improve from 0.87055\n",
      "Epoch 50/100\n",
      "312/312 [==============================] - 34s 110ms/step - loss: 0.2850 - acc: 0.8912 - val_loss: 0.4239 - val_acc: 0.8835\n",
      "\n",
      "Epoch 00050: val_acc improved from 0.87055 to 0.88350, saving model to VGG16(Custom-CNN).hdf5\n",
      "Epoch 51/100\n",
      "312/312 [==============================] - 35s 111ms/step - loss: 0.2756 - acc: 0.9016 - val_loss: 0.4800 - val_acc: 0.8552\n",
      "\n",
      "Epoch 00051: val_acc did not improve from 0.88350\n",
      "Epoch 52/100\n",
      "312/312 [==============================] - 35s 111ms/step - loss: 0.2484 - acc: 0.9131 - val_loss: 0.4636 - val_acc: 0.8681\n",
      "\n",
      "Epoch 00052: val_acc did not improve from 0.88350\n",
      "Epoch 53/100\n",
      "312/312 [==============================] - 35s 111ms/step - loss: 0.2418 - acc: 0.9143 - val_loss: 0.4744 - val_acc: 0.8786\n",
      "\n",
      "Epoch 00053: val_acc did not improve from 0.88350\n",
      "Epoch 54/100\n",
      "312/312 [==============================] - 35s 111ms/step - loss: 0.2017 - acc: 0.9287 - val_loss: 0.5520 - val_acc: 0.8665\n",
      "\n",
      "Epoch 00054: val_acc did not improve from 0.88350\n",
      "Epoch 55/100\n",
      "312/312 [==============================] - 35s 111ms/step - loss: 0.2164 - acc: 0.9231 - val_loss: 0.4950 - val_acc: 0.8778\n",
      "\n",
      "Epoch 00055: val_acc did not improve from 0.88350\n",
      "Epoch 56/100\n",
      "312/312 [==============================] - 34s 110ms/step - loss: 0.2425 - acc: 0.9145 - val_loss: 0.5824 - val_acc: 0.8519\n",
      "\n",
      "Epoch 00056: val_acc did not improve from 0.88350\n",
      "Epoch 57/100\n",
      "312/312 [==============================] - 34s 110ms/step - loss: 0.2646 - acc: 0.9042 - val_loss: 0.4408 - val_acc: 0.8706\n",
      "\n",
      "Epoch 00057: val_acc did not improve from 0.88350\n",
      "Epoch 58/100\n",
      "312/312 [==============================] - 35s 111ms/step - loss: 0.2188 - acc: 0.9227 - val_loss: 0.5022 - val_acc: 0.8689\n",
      "\n",
      "Epoch 00058: val_acc did not improve from 0.88350\n",
      "Epoch 59/100\n",
      "312/312 [==============================] - 34s 111ms/step - loss: 0.2279 - acc: 0.9215 - val_loss: 0.5871 - val_acc: 0.8714\n",
      "\n",
      "Epoch 00059: val_acc did not improve from 0.88350\n",
      "Epoch 60/100\n",
      "312/312 [==============================] - 35s 111ms/step - loss: 0.2104 - acc: 0.9309 - val_loss: 0.4778 - val_acc: 0.8633\n",
      "\n",
      "Epoch 00060: val_acc did not improve from 0.88350\n",
      "Epoch 61/100\n",
      "312/312 [==============================] - 35s 111ms/step - loss: 0.2211 - acc: 0.9169 - val_loss: 0.6234 - val_acc: 0.8681\n",
      "\n",
      "Epoch 00061: val_acc did not improve from 0.88350\n",
      "Epoch 62/100\n",
      "312/312 [==============================] - 34s 111ms/step - loss: 0.1915 - acc: 0.9369 - val_loss: 0.5478 - val_acc: 0.8786\n",
      "\n",
      "Epoch 00062: val_acc did not improve from 0.88350\n",
      "Epoch 63/100\n",
      "312/312 [==============================] - 35s 111ms/step - loss: 0.2333 - acc: 0.9209 - val_loss: 0.4185 - val_acc: 0.8714\n",
      "\n",
      "Epoch 00063: val_acc did not improve from 0.88350\n",
      "Epoch 64/100\n",
      "312/312 [==============================] - 35s 111ms/step - loss: 0.2470 - acc: 0.9071 - val_loss: 0.5521 - val_acc: 0.8617\n",
      "\n",
      "Epoch 00064: val_acc did not improve from 0.88350\n",
      "Epoch 65/100\n",
      "312/312 [==============================] - 35s 111ms/step - loss: 0.2183 - acc: 0.9255 - val_loss: 0.5515 - val_acc: 0.8730\n",
      "\n",
      "Epoch 00065: val_acc did not improve from 0.88350\n",
      "Epoch 66/100\n",
      "312/312 [==============================] - 35s 111ms/step - loss: 0.2158 - acc: 0.9239 - val_loss: 0.4904 - val_acc: 0.8786\n",
      "\n",
      "Epoch 00066: val_acc did not improve from 0.88350\n",
      "Epoch 67/100\n",
      "312/312 [==============================] - 35s 111ms/step - loss: 0.1978 - acc: 0.9313 - val_loss: 0.5790 - val_acc: 0.8665\n",
      "\n",
      "Epoch 00067: val_acc did not improve from 0.88350\n",
      "Epoch 68/100\n",
      "312/312 [==============================] - 34s 111ms/step - loss: 0.1857 - acc: 0.9353 - val_loss: 0.6367 - val_acc: 0.8730\n",
      "\n",
      "Epoch 00068: val_acc did not improve from 0.88350\n",
      "Epoch 69/100\n",
      "312/312 [==============================] - 35s 111ms/step - loss: 0.1807 - acc: 0.9401 - val_loss: 0.7753 - val_acc: 0.8592\n",
      "\n",
      "Epoch 00069: val_acc did not improve from 0.88350\n",
      "Epoch 70/100\n",
      "312/312 [==============================] - 35s 111ms/step - loss: 0.2037 - acc: 0.9337 - val_loss: 0.6302 - val_acc: 0.8746\n",
      "\n",
      "Epoch 00070: val_acc did not improve from 0.88350\n",
      "Epoch 71/100\n",
      "312/312 [==============================] - 34s 111ms/step - loss: 0.1865 - acc: 0.9373 - val_loss: 0.5255 - val_acc: 0.8657\n",
      "\n",
      "Epoch 00071: val_acc did not improve from 0.88350\n",
      "Epoch 72/100\n",
      "312/312 [==============================] - 35s 111ms/step - loss: 0.1935 - acc: 0.9339 - val_loss: 0.6631 - val_acc: 0.8608\n",
      "\n",
      "Epoch 00072: val_acc did not improve from 0.88350\n",
      "Epoch 73/100\n",
      "312/312 [==============================] - 35s 111ms/step - loss: 0.1805 - acc: 0.9427 - val_loss: 0.5744 - val_acc: 0.8657\n",
      "\n",
      "Epoch 00073: val_acc did not improve from 0.88350\n",
      "Epoch 74/100\n",
      "312/312 [==============================] - 34s 111ms/step - loss: 0.1791 - acc: 0.9383 - val_loss: 0.6914 - val_acc: 0.8657\n",
      "\n",
      "Epoch 00074: val_acc did not improve from 0.88350\n",
      "Epoch 75/100\n",
      "312/312 [==============================] - 35s 111ms/step - loss: 0.1829 - acc: 0.9401 - val_loss: 0.5935 - val_acc: 0.8754\n",
      "\n",
      "Epoch 00075: val_acc did not improve from 0.88350\n",
      "Epoch 76/100\n",
      "312/312 [==============================] - 34s 110ms/step - loss: 0.1586 - acc: 0.9535 - val_loss: 0.6808 - val_acc: 0.8689\n",
      "\n",
      "Epoch 00076: val_acc did not improve from 0.88350\n",
      "Epoch 77/100\n",
      "312/312 [==============================] - 35s 111ms/step - loss: 0.2035 - acc: 0.9307 - val_loss: 0.6524 - val_acc: 0.8673\n",
      "\n",
      "Epoch 00077: val_acc did not improve from 0.88350\n",
      "Epoch 78/100\n",
      "312/312 [==============================] - 34s 110ms/step - loss: 0.1731 - acc: 0.9407 - val_loss: 0.6859 - val_acc: 0.8706\n",
      "\n",
      "Epoch 00078: val_acc did not improve from 0.88350\n",
      "Epoch 79/100\n",
      "312/312 [==============================] - 35s 111ms/step - loss: 0.1724 - acc: 0.9445 - val_loss: 0.6082 - val_acc: 0.8754\n",
      "\n",
      "Epoch 00079: val_acc did not improve from 0.88350\n",
      "Epoch 80/100\n",
      "312/312 [==============================] - 34s 111ms/step - loss: 0.1959 - acc: 0.9363 - val_loss: 0.6944 - val_acc: 0.8710\n",
      "\n",
      "Epoch 00080: val_acc did not improve from 0.88350\n",
      "Epoch 81/100\n",
      "312/312 [==============================] - 35s 111ms/step - loss: 0.1728 - acc: 0.9419 - val_loss: 0.5874 - val_acc: 0.8754\n",
      "\n",
      "Epoch 00081: val_acc did not improve from 0.88350\n",
      "Epoch 82/100\n",
      "312/312 [==============================] - 35s 111ms/step - loss: 0.2133 - acc: 0.9289 - val_loss: 0.5265 - val_acc: 0.8722\n",
      "\n",
      "Epoch 00082: val_acc did not improve from 0.88350\n",
      "Epoch 83/100\n",
      "312/312 [==============================] - 34s 111ms/step - loss: 0.2071 - acc: 0.9255 - val_loss: 0.6285 - val_acc: 0.8786\n",
      "\n",
      "Epoch 00083: val_acc did not improve from 0.88350\n",
      "Epoch 84/100\n",
      "312/312 [==============================] - 35s 111ms/step - loss: 0.2006 - acc: 0.9291 - val_loss: 0.7726 - val_acc: 0.8673\n",
      "\n",
      "Epoch 00084: val_acc did not improve from 0.88350\n",
      "Epoch 85/100\n",
      "312/312 [==============================] - 35s 111ms/step - loss: 0.1881 - acc: 0.9379 - val_loss: 0.6641 - val_acc: 0.8714\n",
      "\n",
      "Epoch 00085: val_acc did not improve from 0.88350\n",
      "Epoch 86/100\n",
      "312/312 [==============================] - 35s 111ms/step - loss: 0.1731 - acc: 0.9433 - val_loss: 0.6568 - val_acc: 0.8706\n",
      "\n",
      "Epoch 00086: val_acc did not improve from 0.88350\n",
      "Epoch 87/100\n",
      "312/312 [==============================] - 35s 111ms/step - loss: 0.1758 - acc: 0.9421 - val_loss: 0.8367 - val_acc: 0.8608\n",
      "\n",
      "Epoch 00087: val_acc did not improve from 0.88350\n",
      "Epoch 88/100\n",
      "312/312 [==============================] - 35s 111ms/step - loss: 0.1657 - acc: 0.9445 - val_loss: 0.8576 - val_acc: 0.8738\n",
      "\n",
      "Epoch 00088: val_acc did not improve from 0.88350\n",
      "Epoch 89/100\n",
      "312/312 [==============================] - 34s 111ms/step - loss: 0.1658 - acc: 0.9471 - val_loss: 0.5873 - val_acc: 0.8883\n",
      "\n",
      "Epoch 00089: val_acc improved from 0.88350 to 0.88835, saving model to VGG16(Custom-CNN).hdf5\n",
      "Epoch 90/100\n",
      "312/312 [==============================] - 35s 111ms/step - loss: 0.1600 - acc: 0.9469 - val_loss: 0.6600 - val_acc: 0.8657\n",
      "\n",
      "Epoch 00090: val_acc did not improve from 0.88835\n",
      "Epoch 91/100\n",
      "312/312 [==============================] - 35s 111ms/step - loss: 0.1387 - acc: 0.9573 - val_loss: 0.6674 - val_acc: 0.8722\n",
      "\n",
      "Epoch 00091: val_acc did not improve from 0.88835\n",
      "Epoch 92/100\n",
      "312/312 [==============================] - 34s 110ms/step - loss: 0.1642 - acc: 0.9465 - val_loss: 0.9086 - val_acc: 0.8536\n",
      "\n",
      "Epoch 00092: val_acc did not improve from 0.88835\n",
      "Epoch 93/100\n",
      "312/312 [==============================] - 35s 111ms/step - loss: 0.1515 - acc: 0.9479 - val_loss: 0.6910 - val_acc: 0.8867\n",
      "\n",
      "Epoch 00093: val_acc did not improve from 0.88835\n",
      "Epoch 94/100\n",
      "312/312 [==============================] - 35s 111ms/step - loss: 0.1571 - acc: 0.9497 - val_loss: 0.5887 - val_acc: 0.8746\n",
      "\n",
      "Epoch 00094: val_acc did not improve from 0.88835\n",
      "Epoch 95/100\n",
      "312/312 [==============================] - 35s 111ms/step - loss: 0.1670 - acc: 0.9421 - val_loss: 0.7369 - val_acc: 0.8722\n",
      "\n",
      "Epoch 00095: val_acc did not improve from 0.88835\n",
      "Epoch 96/100\n",
      "312/312 [==============================] - 35s 111ms/step - loss: 0.1497 - acc: 0.9531 - val_loss: 0.6130 - val_acc: 0.8770\n",
      "\n",
      "Epoch 00096: val_acc did not improve from 0.88835\n",
      "Epoch 97/100\n",
      "312/312 [==============================] - 35s 111ms/step - loss: 0.1523 - acc: 0.9535 - val_loss: 0.7224 - val_acc: 0.8778\n",
      "\n",
      "Epoch 00097: val_acc did not improve from 0.88835\n",
      "Epoch 98/100\n",
      "312/312 [==============================] - 35s 111ms/step - loss: 0.1629 - acc: 0.9481 - val_loss: 0.7841 - val_acc: 0.8657\n",
      "\n",
      "Epoch 00098: val_acc did not improve from 0.88835\n",
      "Epoch 99/100\n",
      "312/312 [==============================] - 35s 111ms/step - loss: 0.1563 - acc: 0.9493 - val_loss: 0.7333 - val_acc: 0.8665\n",
      "\n",
      "Epoch 00099: val_acc did not improve from 0.88835\n",
      "Epoch 100/100\n",
      "312/312 [==============================] - 35s 111ms/step - loss: 0.1573 - acc: 0.9523 - val_loss: 0.7821 - val_acc: 0.8835\n",
      "\n",
      "Epoch 00100: val_acc did not improve from 0.88835\n"
     ]
    }
   ],
   "source": [
    "from keras.callbacks import ModelCheckpoint\n",
    "checkpoint = ModelCheckpoint('VGG16(Custom-CNN).hdf5',\n",
    "                monitor='val_acc', verbose=1, save_best_only=True, \n",
    "                save_weights_only=True, mode='max', period=1)\n",
    "\n",
    "callbacks_list = [checkpoint]\n",
    "\n",
    "\n",
    "history = model.fit_generator(train_generator, steps_per_epoch=5000 // batch_size, \n",
    "                              epochs=100, callbacks=callbacks_list, \n",
    "                              validation_data=valid_generator, \n",
    "                              validation_steps=1252 // batch_size)\n"
   ]
  },
  {
   "cell_type": "code",
   "execution_count": 0,
   "metadata": {
    "colab": {},
    "colab_type": "code",
    "id": "BE45xSFyujm3"
   },
   "outputs": [],
   "source": [
    "model.save('VGG(Custom-CNN)-100epochs.h5')"
   ]
  },
  {
   "cell_type": "code",
   "execution_count": 0,
   "metadata": {
    "colab": {},
    "colab_type": "code",
    "id": "xvq5rM4N5W-1"
   },
   "outputs": [],
   "source": [
    "from keras.models import load_model\n",
    "model.load_weights('VGG16(Custom-CNN).hdf5')"
   ]
  },
  {
   "cell_type": "code",
   "execution_count": 35,
   "metadata": {
    "colab": {
     "base_uri": "https://localhost:8080/",
     "height": 764
    },
    "colab_type": "code",
    "id": "hbVWz8yr2uHZ",
    "outputId": "315bdbaa-e0e2-494b-ab04-7b26e2f25cf0"
   },
   "outputs": [
    {
     "data": {
      "image/png": "[encoded data removed]",
      "text/plain": [
       "<Figure size 864x432 with 1 Axes>"
      ]
     },
     "metadata": {
      "tags": []
     },
     "output_type": "display_data"
    },
    {
     "data": {
      "image/png": "[encoded data removed]",
      "text/plain": [
       "<Figure size 864x432 with 1 Axes>"
      ]
     },
     "metadata": {
      "tags": []
     },
     "output_type": "display_data"
    }
   ],
   "source": [
    "from keras.callbacks import *\n",
    "import matplotlib.pyplot as plt\n",
    "\n",
    "plt.rcParams['figure.figsize'] = (12,6)\n",
    "\n",
    "acc = history.history['acc']\n",
    "val_acc = history.history['val_acc']\n",
    "loss = history.history['loss']\n",
    "val_loss = history.history['val_loss']\n",
    "epochs = range(1, len(acc) + 1)\n",
    "\n",
    "plt.title('Training and validation accuracy')\n",
    "plt.plot(epochs, acc, 'red', label='Training acc')\n",
    "plt.plot(epochs, val_acc, 'blue', label='Validation acc')\n",
    "plt.legend()\n",
    "\n",
    "plt.figure()\n",
    "plt.title('Training and validation loss')\n",
    "plt.plot(epochs, loss, 'red', label='Training loss')\n",
    "plt.plot(epochs, val_loss, 'blue', label='Validation loss')\n",
    "\n",
    "plt.legend()\n",
    "\n",
    "plt.show()\n"
   ]
  },
  {
   "cell_type": "code",
   "execution_count": 36,
   "metadata": {
    "colab": {
     "base_uri": "https://localhost:8080/",
     "height": 35
    },
    "colab_type": "code",
    "id": "55JiC14UzZMd",
    "outputId": "8a02a3e4-e643-4b6a-9758-49ebe6f86d56"
   },
   "outputs": [
    {
     "name": "stdout",
     "output_type": "stream",
     "text": [
      "2680/2680 [==============================] - 28s 10ms/step\n"
     ]
    }
   ],
   "source": [
    "STEP_SIZE_TEST=test_generator.n//test_generator.batch_size\n",
    "test_generator.reset()\n",
    "\n",
    "pred=model.predict_generator(test_generator, steps=STEP_SIZE_TEST, verbose=1)"
   ]
  },
  {
   "cell_type": "code",
   "execution_count": 0,
   "metadata": {
    "colab": {},
    "colab_type": "code",
    "id": "nSFBpjcU5zVk"
   },
   "outputs": [],
   "source": [
    "Y_test=np.argmax(pred, axis=1)\n",
    "Y_test+=1"
   ]
  },
  {
   "cell_type": "code",
   "execution_count": 38,
   "metadata": {
    "colab": {
     "base_uri": "https://localhost:8080/",
     "height": 194
    },
    "colab_type": "code",
    "id": "IzqRKGza53Sb",
    "outputId": "73ba9adf-1912-4d35-b8f8-e091db20a3a8"
   },
   "outputs": [
    {
     "data": {
      "text/html": [
       "<div>\n",
       "<style scoped>\n",
       "    .dataframe tbody tr th:only-of-type {\n",
       "        vertical-align: middle;\n",
       "    }\n",
       "\n",
       "    .dataframe tbody tr th {\n",
       "        vertical-align: top;\n",
       "    }\n",
       "\n",
       "    .dataframe thead th {\n",
       "        text-align: right;\n",
       "    }\n",
       "</style>\n",
       "<table border=\"1\" class=\"dataframe\">\n",
       "  <thead>\n",
       "    <tr style=\"text-align: right;\">\n",
       "      <th></th>\n",
       "      <th>image</th>\n",
       "      <th>category</th>\n",
       "    </tr>\n",
       "  </thead>\n",
       "  <tbody>\n",
       "    <tr>\n",
       "      <th>0</th>\n",
       "      <td>1007700.jpg</td>\n",
       "      <td>1</td>\n",
       "    </tr>\n",
       "    <tr>\n",
       "      <th>1</th>\n",
       "      <td>1011369.jpg</td>\n",
       "      <td>1</td>\n",
       "    </tr>\n",
       "    <tr>\n",
       "      <th>2</th>\n",
       "      <td>1051155.jpg</td>\n",
       "      <td>1</td>\n",
       "    </tr>\n",
       "    <tr>\n",
       "      <th>3</th>\n",
       "      <td>1062001.jpg</td>\n",
       "      <td>1</td>\n",
       "    </tr>\n",
       "    <tr>\n",
       "      <th>4</th>\n",
       "      <td>1069397.jpg</td>\n",
       "      <td>1</td>\n",
       "    </tr>\n",
       "  </tbody>\n",
       "</table>\n",
       "</div>"
      ],
      "text/plain": [
       "         image  category\n",
       "0  1007700.jpg         1\n",
       "1  1011369.jpg         1\n",
       "2  1051155.jpg         1\n",
       "3  1062001.jpg         1\n",
       "4  1069397.jpg         1"
      ]
     },
     "execution_count": 38,
     "metadata": {
      "tags": []
     },
     "output_type": "execute_result"
    }
   ],
   "source": [
    "sub = pd.read_csv('sample_submission_ns2btKE.csv')\n",
    "sub.head()"
   ]
  },
  {
   "cell_type": "code",
   "execution_count": 39,
   "metadata": {
    "colab": {
     "base_uri": "https://localhost:8080/",
     "height": 1866
    },
    "colab_type": "code",
    "id": "1JOsFfQu57tK",
    "outputId": "65f37ca4-c7e4-4be1-a5ea-7fb6d836373a"
   },
   "outputs": [
    {
     "data": {
      "text/html": [
       "<div>\n",
       "<style scoped>\n",
       "    .dataframe tbody tr th:only-of-type {\n",
       "        vertical-align: middle;\n",
       "    }\n",
       "\n",
       "    .dataframe tbody tr th {\n",
       "        vertical-align: top;\n",
       "    }\n",
       "\n",
       "    .dataframe thead th {\n",
       "        text-align: right;\n",
       "    }\n",
       "</style>\n",
       "<table border=\"1\" class=\"dataframe\">\n",
       "  <thead>\n",
       "    <tr style=\"text-align: right;\">\n",
       "      <th></th>\n",
       "      <th>image</th>\n",
       "    </tr>\n",
       "  </thead>\n",
       "  <tbody>\n",
       "    <tr>\n",
       "      <th>0</th>\n",
       "      <td>1007700.jpg</td>\n",
       "    </tr>\n",
       "    <tr>\n",
       "      <th>1</th>\n",
       "      <td>1011369.jpg</td>\n",
       "    </tr>\n",
       "    <tr>\n",
       "      <th>2</th>\n",
       "      <td>1051155.jpg</td>\n",
       "    </tr>\n",
       "    <tr>\n",
       "      <th>3</th>\n",
       "      <td>1062001.jpg</td>\n",
       "    </tr>\n",
       "    <tr>\n",
       "      <th>4</th>\n",
       "      <td>1069397.jpg</td>\n",
       "    </tr>\n",
       "    <tr>\n",
       "      <th>5</th>\n",
       "      <td>1072861.jpg</td>\n",
       "    </tr>\n",
       "    <tr>\n",
       "      <th>6</th>\n",
       "      <td>1097264.jpg</td>\n",
       "    </tr>\n",
       "    <tr>\n",
       "      <th>7</th>\n",
       "      <td>1098763.jpg</td>\n",
       "    </tr>\n",
       "    <tr>\n",
       "      <th>8</th>\n",
       "      <td>1098766.jpg</td>\n",
       "    </tr>\n",
       "    <tr>\n",
       "      <th>9</th>\n",
       "      <td>1101145.jpg</td>\n",
       "    </tr>\n",
       "    <tr>\n",
       "      <th>10</th>\n",
       "      <td>1114371.jpg</td>\n",
       "    </tr>\n",
       "    <tr>\n",
       "      <th>11</th>\n",
       "      <td>1114781.jpg</td>\n",
       "    </tr>\n",
       "    <tr>\n",
       "      <th>12</th>\n",
       "      <td>1115492.jpg</td>\n",
       "    </tr>\n",
       "    <tr>\n",
       "      <th>13</th>\n",
       "      <td>1121306.jpg</td>\n",
       "    </tr>\n",
       "    <tr>\n",
       "      <th>14</th>\n",
       "      <td>1123736.jpg</td>\n",
       "    </tr>\n",
       "    <tr>\n",
       "      <th>15</th>\n",
       "      <td>1124946.jpg</td>\n",
       "    </tr>\n",
       "    <tr>\n",
       "      <th>16</th>\n",
       "      <td>1125700.jpg</td>\n",
       "    </tr>\n",
       "    <tr>\n",
       "      <th>17</th>\n",
       "      <td>1127236.jpg</td>\n",
       "    </tr>\n",
       "    <tr>\n",
       "      <th>18</th>\n",
       "      <td>1127336.jpg</td>\n",
       "    </tr>\n",
       "    <tr>\n",
       "      <th>19</th>\n",
       "      <td>1130300.jpg</td>\n",
       "    </tr>\n",
       "    <tr>\n",
       "      <th>20</th>\n",
       "      <td>1131990.jpg</td>\n",
       "    </tr>\n",
       "    <tr>\n",
       "      <th>21</th>\n",
       "      <td>1141996.jpg</td>\n",
       "    </tr>\n",
       "    <tr>\n",
       "      <th>22</th>\n",
       "      <td>1145082.jpg</td>\n",
       "    </tr>\n",
       "    <tr>\n",
       "      <th>23</th>\n",
       "      <td>1153400.jpg</td>\n",
       "    </tr>\n",
       "    <tr>\n",
       "      <th>24</th>\n",
       "      <td>1162763.jpg</td>\n",
       "    </tr>\n",
       "    <tr>\n",
       "      <th>25</th>\n",
       "      <td>1162764.jpg</td>\n",
       "    </tr>\n",
       "    <tr>\n",
       "      <th>26</th>\n",
       "      <td>1162765.jpg</td>\n",
       "    </tr>\n",
       "    <tr>\n",
       "      <th>27</th>\n",
       "      <td>1163874.jpg</td>\n",
       "    </tr>\n",
       "    <tr>\n",
       "      <th>28</th>\n",
       "      <td>1174623.jpg</td>\n",
       "    </tr>\n",
       "    <tr>\n",
       "      <th>29</th>\n",
       "      <td>1185778.jpg</td>\n",
       "    </tr>\n",
       "    <tr>\n",
       "      <th>...</th>\n",
       "      <td>...</td>\n",
       "    </tr>\n",
       "    <tr>\n",
       "      <th>2650</th>\n",
       "      <td>792101.jpg</td>\n",
       "    </tr>\n",
       "    <tr>\n",
       "      <th>2651</th>\n",
       "      <td>807046.jpg</td>\n",
       "    </tr>\n",
       "    <tr>\n",
       "      <th>2652</th>\n",
       "      <td>828391.jpg</td>\n",
       "    </tr>\n",
       "    <tr>\n",
       "      <th>2653</th>\n",
       "      <td>832478.jpg</td>\n",
       "    </tr>\n",
       "    <tr>\n",
       "      <th>2654</th>\n",
       "      <td>834991.jpg</td>\n",
       "    </tr>\n",
       "    <tr>\n",
       "      <th>2655</th>\n",
       "      <td>834998.jpg</td>\n",
       "    </tr>\n",
       "    <tr>\n",
       "      <th>2656</th>\n",
       "      <td>864096.jpg</td>\n",
       "    </tr>\n",
       "    <tr>\n",
       "      <th>2657</th>\n",
       "      <td>881579.jpg</td>\n",
       "    </tr>\n",
       "    <tr>\n",
       "      <th>2658</th>\n",
       "      <td>905067.jpg</td>\n",
       "    </tr>\n",
       "    <tr>\n",
       "      <th>2659</th>\n",
       "      <td>905069.jpg</td>\n",
       "    </tr>\n",
       "    <tr>\n",
       "      <th>2660</th>\n",
       "      <td>913261.jpg</td>\n",
       "    </tr>\n",
       "    <tr>\n",
       "      <th>2661</th>\n",
       "      <td>914029.jpg</td>\n",
       "    </tr>\n",
       "    <tr>\n",
       "      <th>2662</th>\n",
       "      <td>921004.jpg</td>\n",
       "    </tr>\n",
       "    <tr>\n",
       "      <th>2663</th>\n",
       "      <td>928066.jpg</td>\n",
       "    </tr>\n",
       "    <tr>\n",
       "      <th>2664</th>\n",
       "      <td>928647.jpg</td>\n",
       "    </tr>\n",
       "    <tr>\n",
       "      <th>2665</th>\n",
       "      <td>929534.jpg</td>\n",
       "    </tr>\n",
       "    <tr>\n",
       "      <th>2666</th>\n",
       "      <td>930293.jpg</td>\n",
       "    </tr>\n",
       "    <tr>\n",
       "      <th>2667</th>\n",
       "      <td>937491.jpg</td>\n",
       "    </tr>\n",
       "    <tr>\n",
       "      <th>2668</th>\n",
       "      <td>943560.jpg</td>\n",
       "    </tr>\n",
       "    <tr>\n",
       "      <th>2669</th>\n",
       "      <td>944853.jpg</td>\n",
       "    </tr>\n",
       "    <tr>\n",
       "      <th>2670</th>\n",
       "      <td>948344.jpg</td>\n",
       "    </tr>\n",
       "    <tr>\n",
       "      <th>2671</th>\n",
       "      <td>949995.jpg</td>\n",
       "    </tr>\n",
       "    <tr>\n",
       "      <th>2672</th>\n",
       "      <td>949997.jpg</td>\n",
       "    </tr>\n",
       "    <tr>\n",
       "      <th>2673</th>\n",
       "      <td>949999.jpg</td>\n",
       "    </tr>\n",
       "    <tr>\n",
       "      <th>2674</th>\n",
       "      <td>950580.jpg</td>\n",
       "    </tr>\n",
       "    <tr>\n",
       "      <th>2675</th>\n",
       "      <td>950995.jpg</td>\n",
       "    </tr>\n",
       "    <tr>\n",
       "      <th>2676</th>\n",
       "      <td>951046.jpg</td>\n",
       "    </tr>\n",
       "    <tr>\n",
       "      <th>2677</th>\n",
       "      <td>951323.jpg</td>\n",
       "    </tr>\n",
       "    <tr>\n",
       "      <th>2678</th>\n",
       "      <td>952113.jpg</td>\n",
       "    </tr>\n",
       "    <tr>\n",
       "      <th>2679</th>\n",
       "      <td>953982.jpg</td>\n",
       "    </tr>\n",
       "  </tbody>\n",
       "</table>\n",
       "<p>2680 rows × 1 columns</p>\n",
       "</div>"
      ],
      "text/plain": [
       "            image\n",
       "0     1007700.jpg\n",
       "1     1011369.jpg\n",
       "2     1051155.jpg\n",
       "3     1062001.jpg\n",
       "4     1069397.jpg\n",
       "5     1072861.jpg\n",
       "6     1097264.jpg\n",
       "7     1098763.jpg\n",
       "8     1098766.jpg\n",
       "9     1101145.jpg\n",
       "10    1114371.jpg\n",
       "11    1114781.jpg\n",
       "12    1115492.jpg\n",
       "13    1121306.jpg\n",
       "14    1123736.jpg\n",
       "15    1124946.jpg\n",
       "16    1125700.jpg\n",
       "17    1127236.jpg\n",
       "18    1127336.jpg\n",
       "19    1130300.jpg\n",
       "20    1131990.jpg\n",
       "21    1141996.jpg\n",
       "22    1145082.jpg\n",
       "23    1153400.jpg\n",
       "24    1162763.jpg\n",
       "25    1162764.jpg\n",
       "26    1162765.jpg\n",
       "27    1163874.jpg\n",
       "28    1174623.jpg\n",
       "29    1185778.jpg\n",
       "...           ...\n",
       "2650   792101.jpg\n",
       "2651   807046.jpg\n",
       "2652   828391.jpg\n",
       "2653   832478.jpg\n",
       "2654   834991.jpg\n",
       "2655   834998.jpg\n",
       "2656   864096.jpg\n",
       "2657   881579.jpg\n",
       "2658   905067.jpg\n",
       "2659   905069.jpg\n",
       "2660   913261.jpg\n",
       "2661   914029.jpg\n",
       "2662   921004.jpg\n",
       "2663   928066.jpg\n",
       "2664   928647.jpg\n",
       "2665   929534.jpg\n",
       "2666   930293.jpg\n",
       "2667   937491.jpg\n",
       "2668   943560.jpg\n",
       "2669   944853.jpg\n",
       "2670   948344.jpg\n",
       "2671   949995.jpg\n",
       "2672   949997.jpg\n",
       "2673   949999.jpg\n",
       "2674   950580.jpg\n",
       "2675   950995.jpg\n",
       "2676   951046.jpg\n",
       "2677   951323.jpg\n",
       "2678   952113.jpg\n",
       "2679   953982.jpg\n",
       "\n",
       "[2680 rows x 1 columns]"
      ]
     },
     "execution_count": 39,
     "metadata": {
      "tags": []
     },
     "output_type": "execute_result"
    }
   ],
   "source": [
    "sub.drop(columns = [\"category\"])"
   ]
  },
  {
   "cell_type": "code",
   "execution_count": 0,
   "metadata": {
    "colab": {},
    "colab_type": "code",
    "id": "lpp8NZUM58-J"
   },
   "outputs": [],
   "source": [
    "sub.insert(1, \"Category\", Y_test)"
   ]
  },
  {
   "cell_type": "code",
   "execution_count": 0,
   "metadata": {
    "colab": {},
    "colab_type": "code",
    "id": "nSI8b7Ag6DSa"
   },
   "outputs": [],
   "source": [
    "sub.to_csv('submit_VGG(Custom-CNN)_100epochs.csv')"
   ]
  }
 ],
 "metadata": {
  "accelerator": "GPU",
  "colab": {
   "collapsed_sections": [],
   "name": "Approach 2 - Pretrained VGG16 with Custom CNN.ipynb",
   "provenance": [],
   "version": "0.3.2"
  },
  "kernelspec": {
   "display_name": "Python 3",
   "language": "python",
   "name": "python3"
  },
  "language_info": {
   "codemirror_mode": {
    "name": "ipython",
    "version": 3
   },
   "file_extension": ".py",
   "mimetype": "text/x-python",
   "name": "python",
   "nbconvert_exporter": "python",
   "pygments_lexer": "ipython3",
   "version": "3.7.2"
  }
 },
 "nbformat": 4,
 "nbformat_minor": 1
}

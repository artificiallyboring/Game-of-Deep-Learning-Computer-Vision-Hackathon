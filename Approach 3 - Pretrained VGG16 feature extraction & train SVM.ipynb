{
 "cells": [
  {
   "cell_type": "code",
   "execution_count": 1,
   "metadata": {
    "colab": {
     "base_uri": "https://localhost:8080/",
     "height": 34
    },
    "colab_type": "code",
    "executionInfo": {
     "elapsed": 1551,
     "status": "ok",
     "timestamp": 1560010650640,
     "user": {
      "displayName": "Shivangi Shukla",
      "photoUrl": "https://lh4.googleusercontent.com/-cvbgYggNKbY/AAAAAAAAAAI/AAAAAAAAAAw/1yqQD5S0JXY/s64/photo.jpg",
      "userId": "17576678775168796922"
     },
     "user_tz": -330
    },
    "id": "AROZMaOgoIPE",
    "outputId": "1e6c2d3e-2438-4d5e-b159-66bb0f3644a3"
   },
   "outputs": [
    {
     "name": "stdout",
     "output_type": "stream",
     "text": [
      "Drive already mounted at /content/gdrive; to attempt to forcibly remount, call drive.mount(\"/content/gdrive\", force_remount=True).\n"
     ]
    }
   ],
   "source": [
    "from google.colab import drive\n",
    "drive.mount('/content/gdrive')"
   ]
  },
  {
   "cell_type": "code",
   "execution_count": 2,
   "metadata": {
    "colab": {
     "base_uri": "https://localhost:8080/",
     "height": 34
    },
    "colab_type": "code",
    "executionInfo": {
     "elapsed": 1830,
     "status": "ok",
     "timestamp": 1560010651662,
     "user": {
      "displayName": "Shivangi Shukla",
      "photoUrl": "https://lh4.googleusercontent.com/-cvbgYggNKbY/AAAAAAAAAAI/AAAAAAAAAAw/1yqQD5S0JXY/s64/photo.jpg",
      "userId": "17576678775168796922"
     },
     "user_tz": -330
    },
    "id": "kqqqzhTOG0G5",
    "outputId": "98511a8b-15cb-404c-9cf8-fd69a8315642"
   },
   "outputs": [
    {
     "name": "stdout",
     "output_type": "stream",
     "text": [
      "/content/gdrive/My Drive/Game of Deep Learning/images\n"
     ]
    }
   ],
   "source": [
    "cd /content/gdrive/My\\ Drive/Game\\ of\\ Deep\\ Learning/images/"
   ]
  },
  {
   "cell_type": "code",
   "execution_count": 3,
   "metadata": {
    "colab": {
     "base_uri": "https://localhost:8080/",
     "height": 34
    },
    "colab_type": "code",
    "executionInfo": {
     "elapsed": 6104,
     "status": "ok",
     "timestamp": 1560010656427,
     "user": {
      "displayName": "Shivangi Shukla",
      "photoUrl": "https://lh4.googleusercontent.com/-cvbgYggNKbY/AAAAAAAAAAI/AAAAAAAAAAw/1yqQD5S0JXY/s64/photo.jpg",
      "userId": "17576678775168796922"
     },
     "user_tz": -330
    },
    "id": "g4Mwe6YK4kMH",
    "outputId": "24fd719d-4d89-4b45-95f1-2dd705a5f90d"
   },
   "outputs": [
    {
     "name": "stdout",
     "output_type": "stream",
     "text": [
      "8932\n"
     ]
    }
   ],
   "source": [
    "!find . -type f | wc -l"
   ]
  },
  {
   "cell_type": "code",
   "execution_count": 4,
   "metadata": {
    "colab": {
     "base_uri": "https://localhost:8080/",
     "height": 34
    },
    "colab_type": "code",
    "executionInfo": {
     "elapsed": 3999,
     "status": "ok",
     "timestamp": 1560010656429,
     "user": {
      "displayName": "Shivangi Shukla",
      "photoUrl": "https://lh4.googleusercontent.com/-cvbgYggNKbY/AAAAAAAAAAI/AAAAAAAAAAw/1yqQD5S0JXY/s64/photo.jpg",
      "userId": "17576678775168796922"
     },
     "user_tz": -330
    },
    "id": "QyLgGr4VoOY_",
    "outputId": "d8e63b68-7ea9-4d74-c669-2ca204a3b803"
   },
   "outputs": [
    {
     "name": "stdout",
     "output_type": "stream",
     "text": [
      "/content/gdrive/My Drive/Game of Deep Learning\n"
     ]
    }
   ],
   "source": [
    "cd /content/gdrive/My\\ Drive/Game\\ of\\ Deep\\ Learning/"
   ]
  },
  {
   "cell_type": "code",
   "execution_count": 0,
   "metadata": {
    "colab": {},
    "colab_type": "code",
    "id": "_9LrdJs0pZZ7"
   },
   "outputs": [],
   "source": [
    "import pandas as pd\n",
    "import numpy as np\n",
    "import seaborn as sns\n",
    "import matplotlib.pyplot as plt\n",
    "from PIL import Image"
   ]
  },
  {
   "cell_type": "code",
   "execution_count": 0,
   "metadata": {
    "colab": {},
    "colab_type": "code",
    "id": "bXWQZHcDrRxy"
   },
   "outputs": [],
   "source": [
    "train = pd.read_csv('train.csv')\n",
    "test = pd.read_csv('test_ApKoW4T.csv')"
   ]
  },
  {
   "cell_type": "code",
   "execution_count": 7,
   "metadata": {
    "colab": {
     "base_uri": "https://localhost:8080/",
     "height": 204
    },
    "colab_type": "code",
    "executionInfo": {
     "elapsed": 3271,
     "status": "ok",
     "timestamp": 1560010656443,
     "user": {
      "displayName": "Shivangi Shukla",
      "photoUrl": "https://lh4.googleusercontent.com/-cvbgYggNKbY/AAAAAAAAAAI/AAAAAAAAAAw/1yqQD5S0JXY/s64/photo.jpg",
      "userId": "17576678775168796922"
     },
     "user_tz": -330
    },
    "id": "Njd8yRVU4rtd",
    "outputId": "55b86ebe-fa3a-4131-898f-bce49cc0200d"
   },
   "outputs": [
    {
     "data": {
      "text/html": [
       "<div>\n",
       "<style scoped>\n",
       "    .dataframe tbody tr th:only-of-type {\n",
       "        vertical-align: middle;\n",
       "    }\n",
       "\n",
       "    .dataframe tbody tr th {\n",
       "        vertical-align: top;\n",
       "    }\n",
       "\n",
       "    .dataframe thead th {\n",
       "        text-align: right;\n",
       "    }\n",
       "</style>\n",
       "<table border=\"1\" class=\"dataframe\">\n",
       "  <thead>\n",
       "    <tr style=\"text-align: right;\">\n",
       "      <th></th>\n",
       "      <th>image</th>\n",
       "      <th>category</th>\n",
       "    </tr>\n",
       "  </thead>\n",
       "  <tbody>\n",
       "    <tr>\n",
       "      <th>0</th>\n",
       "      <td>2823080.jpg</td>\n",
       "      <td>1</td>\n",
       "    </tr>\n",
       "    <tr>\n",
       "      <th>1</th>\n",
       "      <td>2870024.jpg</td>\n",
       "      <td>1</td>\n",
       "    </tr>\n",
       "    <tr>\n",
       "      <th>2</th>\n",
       "      <td>2662125.jpg</td>\n",
       "      <td>2</td>\n",
       "    </tr>\n",
       "    <tr>\n",
       "      <th>3</th>\n",
       "      <td>2900420.jpg</td>\n",
       "      <td>3</td>\n",
       "    </tr>\n",
       "    <tr>\n",
       "      <th>4</th>\n",
       "      <td>2804883.jpg</td>\n",
       "      <td>2</td>\n",
       "    </tr>\n",
       "  </tbody>\n",
       "</table>\n",
       "</div>"
      ],
      "text/plain": [
       "         image  category\n",
       "0  2823080.jpg         1\n",
       "1  2870024.jpg         1\n",
       "2  2662125.jpg         2\n",
       "3  2900420.jpg         3\n",
       "4  2804883.jpg         2"
      ]
     },
     "execution_count": 7,
     "metadata": {
      "tags": []
     },
     "output_type": "execute_result"
    }
   ],
   "source": [
    "train.head()"
   ]
  },
  {
   "cell_type": "code",
   "execution_count": 8,
   "metadata": {
    "colab": {
     "base_uri": "https://localhost:8080/",
     "height": 204
    },
    "colab_type": "code",
    "executionInfo": {
     "elapsed": 3071,
     "status": "ok",
     "timestamp": 1560010656445,
     "user": {
      "displayName": "Shivangi Shukla",
      "photoUrl": "https://lh4.googleusercontent.com/-cvbgYggNKbY/AAAAAAAAAAI/AAAAAAAAAAw/1yqQD5S0JXY/s64/photo.jpg",
      "userId": "17576678775168796922"
     },
     "user_tz": -330
    },
    "id": "CYygK9Aq8dr_",
    "outputId": "e8466ecb-3c1b-4205-ccba-0879f64b235e"
   },
   "outputs": [
    {
     "data": {
      "text/html": [
       "<div>\n",
       "<style scoped>\n",
       "    .dataframe tbody tr th:only-of-type {\n",
       "        vertical-align: middle;\n",
       "    }\n",
       "\n",
       "    .dataframe tbody tr th {\n",
       "        vertical-align: top;\n",
       "    }\n",
       "\n",
       "    .dataframe thead th {\n",
       "        text-align: right;\n",
       "    }\n",
       "</style>\n",
       "<table border=\"1\" class=\"dataframe\">\n",
       "  <thead>\n",
       "    <tr style=\"text-align: right;\">\n",
       "      <th></th>\n",
       "      <th>image</th>\n",
       "    </tr>\n",
       "  </thead>\n",
       "  <tbody>\n",
       "    <tr>\n",
       "      <th>0</th>\n",
       "      <td>1007700.jpg</td>\n",
       "    </tr>\n",
       "    <tr>\n",
       "      <th>1</th>\n",
       "      <td>1011369.jpg</td>\n",
       "    </tr>\n",
       "    <tr>\n",
       "      <th>2</th>\n",
       "      <td>1051155.jpg</td>\n",
       "    </tr>\n",
       "    <tr>\n",
       "      <th>3</th>\n",
       "      <td>1062001.jpg</td>\n",
       "    </tr>\n",
       "    <tr>\n",
       "      <th>4</th>\n",
       "      <td>1069397.jpg</td>\n",
       "    </tr>\n",
       "  </tbody>\n",
       "</table>\n",
       "</div>"
      ],
      "text/plain": [
       "         image\n",
       "0  1007700.jpg\n",
       "1  1011369.jpg\n",
       "2  1051155.jpg\n",
       "3  1062001.jpg\n",
       "4  1069397.jpg"
      ]
     },
     "execution_count": 8,
     "metadata": {
      "tags": []
     },
     "output_type": "execute_result"
    }
   ],
   "source": [
    "test.head()"
   ]
  },
  {
   "cell_type": "code",
   "execution_count": 9,
   "metadata": {
    "colab": {
     "base_uri": "https://localhost:8080/",
     "height": 283
    },
    "colab_type": "code",
    "executionInfo": {
     "elapsed": 2866,
     "status": "ok",
     "timestamp": 1560010656447,
     "user": {
      "displayName": "Shivangi Shukla",
      "photoUrl": "https://lh4.googleusercontent.com/-cvbgYggNKbY/AAAAAAAAAAI/AAAAAAAAAAw/1yqQD5S0JXY/s64/photo.jpg",
      "userId": "17576678775168796922"
     },
     "user_tz": -330
    },
    "id": "qt884vqV4uhi",
    "outputId": "7389df37-bc19-40b6-f5b0-50740a5d3e8f"
   },
   "outputs": [
    {
     "data": {
      "image/png": "[encoded data removed]",
      "text/plain": [
       "<Figure size 432x288 with 1 Axes>"
      ]
     },
     "metadata": {
      "tags": []
     },
     "output_type": "display_data"
    }
   ],
   "source": [
    "sns.countplot(x=\"category\", data=train),\n",
    "plt.show()"
   ]
  },
  {
   "cell_type": "code",
   "execution_count": 10,
   "metadata": {
    "colab": {
     "base_uri": "https://localhost:8080/",
     "height": 119
    },
    "colab_type": "code",
    "executionInfo": {
     "elapsed": 2680,
     "status": "ok",
     "timestamp": 1560010656449,
     "user": {
      "displayName": "Shivangi Shukla",
      "photoUrl": "https://lh4.googleusercontent.com/-cvbgYggNKbY/AAAAAAAAAAI/AAAAAAAAAAw/1yqQD5S0JXY/s64/photo.jpg",
      "userId": "17576678775168796922"
     },
     "user_tz": -330
    },
    "id": "8st5538w43ca",
    "outputId": "ae54542f-1dc3-4f26-b73e-a3037439ec01"
   },
   "outputs": [
    {
     "data": {
      "text/plain": [
       "1    2120\n",
       "5    1217\n",
       "2    1167\n",
       "3     916\n",
       "4     832\n",
       "Name: category, dtype: int64"
      ]
     },
     "execution_count": 10,
     "metadata": {
      "tags": []
     },
     "output_type": "execute_result"
    }
   ],
   "source": [
    "train['category'].value_counts()"
   ]
  },
  {
   "cell_type": "code",
   "execution_count": 11,
   "metadata": {
    "colab": {
     "base_uri": "https://localhost:8080/",
     "height": 68
    },
    "colab_type": "code",
    "executionInfo": {
     "elapsed": 2467,
     "status": "ok",
     "timestamp": 1560010656451,
     "user": {
      "displayName": "Shivangi Shukla",
      "photoUrl": "https://lh4.googleusercontent.com/-cvbgYggNKbY/AAAAAAAAAAI/AAAAAAAAAAw/1yqQD5S0JXY/s64/photo.jpg",
      "userId": "17576678775168796922"
     },
     "user_tz": -330
    },
    "id": "X6dZm2x_6_R6",
    "outputId": "7472d5ed-4a52-4c39-dbe9-34c9417f8383"
   },
   "outputs": [
    {
     "data": {
      "text/plain": [
       "image       0\n",
       "category    0\n",
       "dtype: int64"
      ]
     },
     "execution_count": 11,
     "metadata": {
      "tags": []
     },
     "output_type": "execute_result"
    }
   ],
   "source": [
    "train.isnull().sum()"
   ]
  },
  {
   "cell_type": "code",
   "execution_count": 12,
   "metadata": {
    "colab": {
     "base_uri": "https://localhost:8080/",
     "height": 51
    },
    "colab_type": "code",
    "executionInfo": {
     "elapsed": 2250,
     "status": "ok",
     "timestamp": 1560010656453,
     "user": {
      "displayName": "Shivangi Shukla",
      "photoUrl": "https://lh4.googleusercontent.com/-cvbgYggNKbY/AAAAAAAAAAI/AAAAAAAAAAw/1yqQD5S0JXY/s64/photo.jpg",
      "userId": "17576678775168796922"
     },
     "user_tz": -330
    },
    "id": "ULYcn00ROUkz",
    "outputId": "5daa4a9a-e5d1-428d-f437-2e110b1951af"
   },
   "outputs": [
    {
     "data": {
      "text/plain": [
       "image    0\n",
       "dtype: int64"
      ]
     },
     "execution_count": 12,
     "metadata": {
      "tags": []
     },
     "output_type": "execute_result"
    }
   ],
   "source": [
    "test.isnull().sum()"
   ]
  },
  {
   "cell_type": "code",
   "execution_count": 13,
   "metadata": {
    "colab": {
     "base_uri": "https://localhost:8080/",
     "height": 34
    },
    "colab_type": "code",
    "executionInfo": {
     "elapsed": 2957,
     "status": "ok",
     "timestamp": 1560010657394,
     "user": {
      "displayName": "Shivangi Shukla",
      "photoUrl": "https://lh4.googleusercontent.com/-cvbgYggNKbY/AAAAAAAAAAI/AAAAAAAAAAw/1yqQD5S0JXY/s64/photo.jpg",
      "userId": "17576678775168796922"
     },
     "user_tz": -330
    },
    "id": "Rv8JXlHt8s53",
    "outputId": "def14c88-b76e-4a17-f919-f6cd7c068ccd"
   },
   "outputs": [
    {
     "name": "stderr",
     "output_type": "stream",
     "text": [
      "Using TensorFlow backend.\n"
     ]
    }
   ],
   "source": [
    "from keras_preprocessing.image import ImageDataGenerator\n",
    "from keras.layers import Dense, Activation, Flatten, Dropout, BatchNormalization\n",
    "from keras.layers import Conv2D, MaxPooling2D\n",
    "from keras.optimizers import Adam"
   ]
  },
  {
   "cell_type": "code",
   "execution_count": 0,
   "metadata": {
    "colab": {},
    "colab_type": "code",
    "id": "nXYVsbxLBXeU"
   },
   "outputs": [],
   "source": [
    "datagen=ImageDataGenerator(rotation_range=40, zoom_range = 0.2, width_shift_range=0.2, height_shift_range=0.2,\n",
    "                             horizontal_flip=True, vertical_flip=True, rescale=1./255.)\n",
    "test_datagen=ImageDataGenerator(rescale=1./255.)"
   ]
  },
  {
   "cell_type": "code",
   "execution_count": 15,
   "metadata": {
    "colab": {
     "base_uri": "https://localhost:8080/",
     "height": 275
    },
    "colab_type": "code",
    "executionInfo": {
     "elapsed": 1570,
     "status": "ok",
     "timestamp": 1560010662919,
     "user": {
      "displayName": "Shivangi Shukla",
      "photoUrl": "https://lh4.googleusercontent.com/-cvbgYggNKbY/AAAAAAAAAAI/AAAAAAAAAAw/1yqQD5S0JXY/s64/photo.jpg",
      "userId": "17576678775168796922"
     },
     "user_tz": -330
    },
    "id": "X-pYd4LtaUll",
    "outputId": "3959be9d-3d46-42d1-8c41-d944f0691dfe"
   },
   "outputs": [
    {
     "name": "stdout",
     "output_type": "stream",
     "text": [
      "A sample image from training set\n",
      "\n"
     ]
    },
    {
     "data": {
      "image/jpeg": "[encoded data removed]",
      "text/plain": [
       "<IPython.core.display.Image object>"
      ]
     },
     "execution_count": 15,
     "metadata": {
      "image/jpeg": {
       "height": 224,
       "width": 224
      },
      "tags": []
     },
     "output_type": "execute_result"
    }
   ],
   "source": [
    "from IPython.display import Image\n",
    "\n",
    "PATH = \"./images/\"\n",
    "print(\"A sample image from training set\\n\")\n",
    "Image(filename = PATH + train[\"image\"][0], width=224, height=224)"
   ]
  },
  {
   "cell_type": "code",
   "execution_count": 16,
   "metadata": {
    "colab": {
     "base_uri": "https://localhost:8080/",
     "height": 275
    },
    "colab_type": "code",
    "executionInfo": {
     "elapsed": 1338,
     "status": "ok",
     "timestamp": 1560010664768,
     "user": {
      "displayName": "Shivangi Shukla",
      "photoUrl": "https://lh4.googleusercontent.com/-cvbgYggNKbY/AAAAAAAAAAI/AAAAAAAAAAw/1yqQD5S0JXY/s64/photo.jpg",
      "userId": "17576678775168796922"
     },
     "user_tz": -330
    },
    "id": "7C5qOSx8dLo7",
    "outputId": "2576d653-f38b-44b3-9196-0bb09b3695cc"
   },
   "outputs": [
    {
     "name": "stdout",
     "output_type": "stream",
     "text": [
      "A sample image from validation set\n",
      "\n"
     ]
    },
    {
     "data": {
      "image/jpeg": "[encoded data removed]",
      "text/plain": [
       "<IPython.core.display.Image object>"
      ]
     },
     "execution_count": 16,
     "metadata": {
      "image/jpeg": {
       "height": 224,
       "width": 224
      },
      "tags": []
     },
     "output_type": "execute_result"
    }
   ],
   "source": [
    "print(\"A sample image from validation set\\n\")\n",
    "Image(filename = PATH + train[\"image\"][5006], width=224, height=224)"
   ]
  },
  {
   "cell_type": "code",
   "execution_count": 17,
   "metadata": {
    "colab": {
     "base_uri": "https://localhost:8080/",
     "height": 275
    },
    "colab_type": "code",
    "executionInfo": {
     "elapsed": 1204,
     "status": "ok",
     "timestamp": 1560010664771,
     "user": {
      "displayName": "Shivangi Shukla",
      "photoUrl": "https://lh4.googleusercontent.com/-cvbgYggNKbY/AAAAAAAAAAI/AAAAAAAAAAw/1yqQD5S0JXY/s64/photo.jpg",
      "userId": "17576678775168796922"
     },
     "user_tz": -330
    },
    "id": "ssh-aI4HdObq",
    "outputId": "eb79771e-39dd-4f17-f57f-80f2343b929d"
   },
   "outputs": [
    {
     "name": "stdout",
     "output_type": "stream",
     "text": [
      "A sample image from test set\n",
      "\n"
     ]
    },
    {
     "data": {
      "image/jpeg": "[encoded data removed]",
      "text/plain": [
       "<IPython.core.display.Image object>"
      ]
     },
     "execution_count": 17,
     "metadata": {
      "image/jpeg": {
       "height": 224,
       "width": 224
      },
      "tags": []
     },
     "output_type": "execute_result"
    }
   ],
   "source": [
    "print(\"A sample image from test set\\n\")\n",
    "Image(filename = PATH + test[\"image\"][2000], width=224, height=224)"
   ]
  },
  {
   "cell_type": "code",
   "execution_count": 0,
   "metadata": {
    "colab": {},
    "colab_type": "code",
    "id": "VNIfv7p1u3Zg"
   },
   "outputs": [],
   "source": [
    "batch_size = 16"
   ]
  },
  {
   "cell_type": "code",
   "execution_count": 0,
   "metadata": {
    "colab": {},
    "colab_type": "code",
    "id": "WNKhm40z3POt"
   },
   "outputs": [],
   "source": [
    "temp = []\n",
    "for i in range (len(train['category'])):\n",
    "  local = str(train['category'][i])\n",
    "  temp.append(local)\n",
    "train.insert(2, \"String_category\", temp)\n",
    "del temp"
   ]
  },
  {
   "cell_type": "code",
   "execution_count": 20,
   "metadata": {
    "colab": {
     "base_uri": "https://localhost:8080/",
     "height": 68
    },
    "colab_type": "code",
    "executionInfo": {
     "elapsed": 9003,
     "status": "ok",
     "timestamp": 1560010689290,
     "user": {
      "displayName": "Shivangi Shukla",
      "photoUrl": "https://lh4.googleusercontent.com/-cvbgYggNKbY/AAAAAAAAAAI/AAAAAAAAAAw/1yqQD5S0JXY/s64/photo.jpg",
      "userId": "17576678775168796922"
     },
     "user_tz": -330
    },
    "id": "7bhOZVP8CFVV",
    "outputId": "9fd1b960-5c6b-4370-8223-5a0674ffd06b"
   },
   "outputs": [
    {
     "name": "stdout",
     "output_type": "stream",
     "text": [
      "Found 5000 validated image filenames belonging to 5 classes.\n",
      "Found 1252 validated image filenames belonging to 5 classes.\n",
      "Found 2680 validated image filenames.\n"
     ]
    }
   ],
   "source": [
    "#train_generator = datagen.flow_from_dataframe(dataframe=train[:5000], directory=\"./images/\",\n",
    "#                                            x_col=\"image\", y_col=\"String_category\", batch_size=batch_size, shuffle=True, class_mode=\"categorical\", target_size=(224,224))\n",
    "#valid_generator = datagen.flow_from_dataframe(dataframe=train[5000:], directory=\"./images/\",\n",
    "#                                            x_col=\"image\", y_col=\"String_category\", batch_size=batch_size, shuffle=True, class_mode=\"categorical\", target_size=(224,224))\n",
    "test_generator  = datagen.flow_from_dataframe(dataframe=test, directory=\"./images/\",\n",
    "                                            x_col=\"image\", batch_size=1, shuffle=False, class_mode=None, target_size=(224,224))"
   ]
  },
  {
   "cell_type": "code",
   "execution_count": 43,
   "metadata": {
    "colab": {
     "base_uri": "https://localhost:8080/",
     "height": 34
    },
    "colab_type": "code",
    "executionInfo": {
     "elapsed": 8557,
     "status": "ok",
     "timestamp": 1560016591901,
     "user": {
      "displayName": "Shivangi Shukla",
      "photoUrl": "https://lh4.googleusercontent.com/-cvbgYggNKbY/AAAAAAAAAAI/AAAAAAAAAAw/1yqQD5S0JXY/s64/photo.jpg",
      "userId": "17576678775168796922"
     },
     "user_tz": -330
    },
    "id": "puFFZHEBO2Dq",
    "outputId": "8976363a-be9a-492e-bd1b-fa3babb770d4"
   },
   "outputs": [
    {
     "name": "stdout",
     "output_type": "stream",
     "text": [
      "Found 6252 validated image filenames belonging to 5 classes.\n"
     ]
    }
   ],
   "source": [
    "temp_generator = datagen.flow_from_dataframe(dataframe=train, directory=\"./images/\",\n",
    "                                            x_col=\"image\", y_col=\"String_category\", batch_size=batch_size, shuffle=True, class_mode=\"categorical\", target_size=(224,224))"
   ]
  },
  {
   "cell_type": "code",
   "execution_count": 21,
   "metadata": {
    "colab": {
     "base_uri": "https://localhost:8080/",
     "height": 122
    },
    "colab_type": "code",
    "executionInfo": {
     "elapsed": 7660,
     "status": "ok",
     "timestamp": 1560010701626,
     "user": {
      "displayName": "Shivangi Shukla",
      "photoUrl": "https://lh4.googleusercontent.com/-cvbgYggNKbY/AAAAAAAAAAI/AAAAAAAAAAw/1yqQD5S0JXY/s64/photo.jpg",
      "userId": "17576678775168796922"
     },
     "user_tz": -330
    },
    "id": "bzf7QvVkZ9Oz",
    "outputId": "bafc6b6c-5b1e-47f0-bb1f-fdb5dce2b7fe"
   },
   "outputs": [
    {
     "name": "stdout",
     "output_type": "stream",
     "text": [
      "WARNING:tensorflow:From /usr/local/lib/python3.6/dist-packages/tensorflow/python/framework/op_def_library.py:263: colocate_with (from tensorflow.python.framework.ops) is deprecated and will be removed in a future version.\n",
      "Instructions for updating:\n",
      "Colocations handled automatically by placer.\n",
      "Downloading data from https://github.com/fchollet/deep-learning-models/releases/download/v0.1/vgg16_weights_tf_dim_ordering_tf_kernels_notop.h5\n",
      "58892288/58889256 [==============================] - 2s 0us/step\n"
     ]
    }
   ],
   "source": [
    "from keras.applications.vgg16 import VGG16, preprocess_input, decode_predictions\n",
    "base_model=VGG16(include_top=False, weights='imagenet')\n",
    "base_model.trainable=False"
   ]
  },
  {
   "cell_type": "code",
   "execution_count": 22,
   "metadata": {
    "colab": {
     "base_uri": "https://localhost:8080/",
     "height": 782
    },
    "colab_type": "code",
    "executionInfo": {
     "elapsed": 1467,
     "status": "ok",
     "timestamp": 1560010705109,
     "user": {
      "displayName": "Shivangi Shukla",
      "photoUrl": "https://lh4.googleusercontent.com/-cvbgYggNKbY/AAAAAAAAAAI/AAAAAAAAAAw/1yqQD5S0JXY/s64/photo.jpg",
      "userId": "17576678775168796922"
     },
     "user_tz": -330
    },
    "id": "ctwkKkXso33v",
    "outputId": "80987feb-92a0-4a32-a223-9c131d667aa1"
   },
   "outputs": [
    {
     "name": "stdout",
     "output_type": "stream",
     "text": [
      "_________________________________________________________________\n",
      "Layer (type)                 Output Shape              Param #   \n",
      "=================================================================\n",
      "input_1 (InputLayer)         (None, None, None, 3)     0         \n",
      "_________________________________________________________________\n",
      "block1_conv1 (Conv2D)        (None, None, None, 64)    1792      \n",
      "_________________________________________________________________\n",
      "block1_conv2 (Conv2D)        (None, None, None, 64)    36928     \n",
      "_________________________________________________________________\n",
      "block1_pool (MaxPooling2D)   (None, None, None, 64)    0         \n",
      "_________________________________________________________________\n",
      "block2_conv1 (Conv2D)        (None, None, None, 128)   73856     \n",
      "_________________________________________________________________\n",
      "block2_conv2 (Conv2D)        (None, None, None, 128)   147584    \n",
      "_________________________________________________________________\n",
      "block2_pool (MaxPooling2D)   (None, None, None, 128)   0         \n",
      "_________________________________________________________________\n",
      "block3_conv1 (Conv2D)        (None, None, None, 256)   295168    \n",
      "_________________________________________________________________\n",
      "block3_conv2 (Conv2D)        (None, None, None, 256)   590080    \n",
      "_________________________________________________________________\n",
      "block3_conv3 (Conv2D)        (None, None, None, 256)   590080    \n",
      "_________________________________________________________________\n",
      "block3_pool (MaxPooling2D)   (None, None, None, 256)   0         \n",
      "_________________________________________________________________\n",
      "block4_conv1 (Conv2D)        (None, None, None, 512)   1180160   \n",
      "_________________________________________________________________\n",
      "block4_conv2 (Conv2D)        (None, None, None, 512)   2359808   \n",
      "_________________________________________________________________\n",
      "block4_conv3 (Conv2D)        (None, None, None, 512)   2359808   \n",
      "_________________________________________________________________\n",
      "block4_pool (MaxPooling2D)   (None, None, None, 512)   0         \n",
      "_________________________________________________________________\n",
      "block5_conv1 (Conv2D)        (None, None, None, 512)   2359808   \n",
      "_________________________________________________________________\n",
      "block5_conv2 (Conv2D)        (None, None, None, 512)   2359808   \n",
      "_________________________________________________________________\n",
      "block5_conv3 (Conv2D)        (None, None, None, 512)   2359808   \n",
      "_________________________________________________________________\n",
      "block5_pool (MaxPooling2D)   (None, None, None, 512)   0         \n",
      "=================================================================\n",
      "Total params: 14,714,688\n",
      "Trainable params: 0\n",
      "Non-trainable params: 14,714,688\n",
      "_________________________________________________________________\n"
     ]
    }
   ],
   "source": [
    "base_model.summary()"
   ]
  },
  {
   "cell_type": "code",
   "execution_count": 0,
   "metadata": {
    "colab": {},
    "colab_type": "code",
    "id": "mWk8CvBypMuf"
   },
   "outputs": [],
   "source": [
    "from keras.applications.vgg16 import VGG16\n",
    "from keras.utils.vis_utils import plot_model\n",
    "\n",
    "plot_model(base_model, to_file='vgg16.png')"
   ]
  },
  {
   "cell_type": "code",
   "execution_count": 24,
   "metadata": {
    "colab": {
     "base_uri": "https://localhost:8080/",
     "height": 1829
    },
    "colab_type": "code",
    "executionInfo": {
     "elapsed": 2376,
     "status": "ok",
     "timestamp": 1560010720029,
     "user": {
      "displayName": "Shivangi Shukla",
      "photoUrl": "https://lh4.googleusercontent.com/-cvbgYggNKbY/AAAAAAAAAAI/AAAAAAAAAAw/1yqQD5S0JXY/s64/photo.jpg",
      "userId": "17576678775168796922"
     },
     "user_tz": -330
    },
    "id": "SOsgNvmIpY3O",
    "outputId": "eaae106f-b115-407c-84b1-a6a1f5e8e149"
   },
   "outputs": [
    {
     "data": {
      "image/png": "[encoded data removed]",
      "text/plain": [
       "<IPython.core.display.Image object>"
      ]
     },
     "execution_count": 24,
     "metadata": {
      "tags": []
     },
     "output_type": "execute_result"
    }
   ],
   "source": [
    "Image(filename = \"vgg16.png\")"
   ]
  },
  {
   "cell_type": "code",
   "execution_count": 0,
   "metadata": {
    "colab": {},
    "colab_type": "code",
    "id": "eCcq1capowu4"
   },
   "outputs": [],
   "source": [
    "from keras.models import Model\n",
    "from keras.layers import Flatten, Dense\n",
    "from keras.applications import VGG16\n",
    "\n",
    "\n",
    "vgg = VGG16(weights = 'imagenet', include_top = False)\n",
    "\n",
    "for layer in vgg.layers:\n",
    "    layer.trainable = False"
   ]
  },
  {
   "cell_type": "code",
   "execution_count": 0,
   "metadata": {
    "colab": {},
    "colab_type": "code",
    "id": "Ym540veI4sDs"
   },
   "outputs": [],
   "source": [
    "features = Model(inputs=base_model.input,outputs=base_model.get_layer('block5_pool').output)"
   ]
  },
  {
   "cell_type": "code",
   "execution_count": 0,
   "metadata": {
    "colab": {},
    "colab_type": "code",
    "id": "rvbfrYgjs5Nd"
   },
   "outputs": [],
   "source": [
    "STEP_SIZE_TRAIN=train_generator.n//train_generator.batch_size\n",
    "train_generator.reset()\n",
    "\n",
    "train_features = base_model.predict_generator(train_generator, steps=STEP_SIZE_TRAIN, verbose=1)"
   ]
  },
  {
   "cell_type": "code",
   "execution_count": 0,
   "metadata": {
    "colab": {},
    "colab_type": "code",
    "id": "Fn64UO8XB_1M"
   },
   "outputs": [],
   "source": [
    "#print(train_features.shape)\n",
    "\n",
    "STEP_SIZE_VAL=valid_generator.n//valid_generator.batch_size\n",
    "valid_generator.reset()\n",
    "\n",
    "valid_features = base_model.predict_generator(valid_generator, steps=STEP_SIZE_VAL, verbose=1)\n",
    "#print(valid_features.shape)\n",
    "\n",
    "STEP_SIZE_TEST=test_generator.n//test_generator.batch_size\n",
    "test_generator.reset()\n",
    "\n",
    "test_features = base_model.predict_generator(test_generator, steps=STEP_SIZE_TEST, verbose=1)\n",
    "#print(test_features.shape)"
   ]
  },
  {
   "cell_type": "code",
   "execution_count": 0,
   "metadata": {
    "colab": {},
    "colab_type": "code",
    "id": "Ilc4MZsfNbxp"
   },
   "outputs": [],
   "source": [
    "#print(train_features.shape)\n",
    "#print(valid_features.shape)\n",
    "#print(test_features.shape)\n",
    "\n",
    "train_features = np.reshape(train_features, (train_features.shape[0], -1))\n",
    "valid_features = np.reshape(valid_features, (valid_features.shape[0], -1))\n",
    "test_features = np.reshape(test_features, (test_features.shape[0], -1))\n",
    "\n",
    "#print (\"****************************\")\n",
    "#print(train_features.shape)\n",
    "#print(valid_features.shape)\n",
    "#print(test_features.shape)"
   ]
  },
  {
   "cell_type": "code",
   "execution_count": 0,
   "metadata": {
    "colab": {},
    "colab_type": "code",
    "id": "Ia1eJqSRPFq6"
   },
   "outputs": [],
   "source": [
    "STEP_SIZE_TEMP=temp_generator.n//temp_generator.batch_size\n",
    "temp_generator.reset()\n",
    "\n",
    "temp_features = base_model.predict_generator(temp_generator, steps=STEP_SIZE_TEMP, verbose=1)\n",
    "#print(temp_features.shape)\n",
    "\n",
    "temp_features = np.reshape(temp_features, (temp_features.shape[0], -1))\n",
    "#print(temp_features.shape)"
   ]
  },
  {
   "cell_type": "code",
   "execution_count": 45,
   "metadata": {
    "colab": {
     "base_uri": "https://localhost:8080/",
     "height": 88
    },
    "colab_type": "code",
    "executionInfo": {
     "elapsed": 2389892,
     "status": "ok",
     "timestamp": 1560019262682,
     "user": {
      "displayName": "Shivangi Shukla",
      "photoUrl": "https://lh4.googleusercontent.com/-cvbgYggNKbY/AAAAAAAAAAI/AAAAAAAAAAw/1yqQD5S0JXY/s64/photo.jpg",
      "userId": "17576678775168796922"
     },
     "user_tz": -330
    },
    "id": "B7R038rqAa6n",
    "outputId": "c5f87159-0826-4610-ac37-8cdecf53a093"
   },
   "outputs": [
    {
     "name": "stderr",
     "output_type": "stream",
     "text": [
      "/usr/local/lib/python3.6/dist-packages/sklearn/svm/base.py:193: FutureWarning: The default value of gamma will change from 'auto' to 'scale' in version 0.22 to account better for unscaled features. Set gamma explicitly to 'auto' or 'scale' to avoid this warning.\n",
      "  \"avoid this warning.\", FutureWarning)\n"
     ]
    },
    {
     "name": "stdout",
     "output_type": "stream",
     "text": [
      "fitting done !!!\n"
     ]
    }
   ],
   "source": [
    "from sklearn.svm import SVC\n",
    "\n",
    "svm = SVC(kernel='rbf')\n",
    "\n",
    "svm.fit(temp_features, train['category'])\n",
    "\n",
    "print('fitting done !!!')"
   ]
  },
  {
   "cell_type": "code",
   "execution_count": 0,
   "metadata": {
    "colab": {},
    "colab_type": "code",
    "id": "Dp98uGadawI_"
   },
   "outputs": [],
   "source": [
    "test_category = svm.predict(test_generator)"
   ]
  },
  {
   "cell_type": "code",
   "execution_count": 0,
   "metadata": {
    "colab": {},
    "colab_type": "code",
    "id": "DzCrH6HLbltL"
   },
   "outputs": [],
   "source": [
    "sub = pd.read_csv('sample_submission_ns2btKE.csv')"
   ]
  },
  {
   "cell_type": "code",
   "execution_count": 0,
   "metadata": {
    "colab": {},
    "colab_type": "code",
    "id": "GB0Vo_3YcZkG"
   },
   "outputs": [],
   "source": [
    "sub.drop(columns = [\"category\"])"
   ]
  },
  {
   "cell_type": "code",
   "execution_count": 0,
   "metadata": {
    "colab": {},
    "colab_type": "code",
    "id": "nVwWpX5HcdhI"
   },
   "outputs": [],
   "source": [
    "sub.insert(1, \"category\", Y_test)"
   ]
  },
  {
   "cell_type": "code",
   "execution_count": 0,
   "metadata": {
    "colab": {},
    "colab_type": "code",
    "id": "fI_ciKALcgVv"
   },
   "outputs": [],
   "source": [
    "sub.to_csv('submit_VGG16_SVM.csv')"
   ]
  }
 ],
 "metadata": {
  "accelerator": "GPU",
  "colab": {
   "collapsed_sections": [],
   "name": "Approach 3 - Pretrained VGG16 feature extraction & train SVM.ipynb",
   "provenance": [],
   "version": "0.3.2"
  },
  "kernelspec": {
   "display_name": "Python 3",
   "language": "python",
   "name": "python3"
  },
  "language_info": {
   "codemirror_mode": {
    "name": "ipython",
    "version": 3
   },
   "file_extension": ".py",
   "mimetype": "text/x-python",
   "name": "python",
   "nbconvert_exporter": "python",
   "pygments_lexer": "ipython3",
   "version": "3.7.2"
  }
 },
 "nbformat": 4,
 "nbformat_minor": 1
}
